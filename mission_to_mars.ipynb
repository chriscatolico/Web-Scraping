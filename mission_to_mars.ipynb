{
 "cells": [
  {
   "cell_type": "code",
   "execution_count": 1,
   "metadata": {},
   "outputs": [],
   "source": [
    "from bs4 import BeautifulSoup\n",
    "import requests\n",
    "import pymongo\n",
    "from splinter import Browser\n",
    "import pandas as pd"
   ]
  },
  {
   "cell_type": "code",
   "execution_count": 2,
   "metadata": {},
   "outputs": [],
   "source": [
    "executable_path = {'executable_path': 'chromedriver.exe'}\n",
    "browser = Browser('chrome', **executable_path, headless=False)"
   ]
  },
  {
   "cell_type": "code",
   "execution_count": 3,
   "metadata": {},
   "outputs": [],
   "source": [
    "# NASA Mars News\n",
    "news_url = 'https://mars.nasa.gov/news/'\n",
    "browser.visit(news_url)\n",
    "html = browser.html\n",
    "news_soup = BeautifulSoup(html, 'html.parser')"
   ]
  },
  {
   "cell_type": "code",
   "execution_count": 4,
   "metadata": {},
   "outputs": [
    {
     "data": {
      "text/plain": [
       "<ul class=\"item_list \"><li class=\"slide\"><div class=\"image_and_description_container\"><a href=\"/news/8436/why-this-martian-full-moon-looks-like-candy/\" target=\"_self\"><div class=\"rollover_description\"><div class=\"rollover_description_inner\">For the first time, NASA's Mars Odyssey orbiter has caught the Martian moon Phobos during a full moon phase. Each color in this new image represents a temperature range detected by Odyssey's infrared camera.</div><div class=\"overlay_arrow\"><img alt=\"More\" src=\"/assets/overlay-arrow.png\"/></div></div><div class=\"list_image\"><img alt=\"Three views of the Martian moon Phobos were taken by NASA's 2001 Mars Odyssey orbiter.\" src=\"/system/news_items/list_view_images/8436_PIA23205_annotated-32x24.jpg\"/></div><div class=\"bottom_gradient\"><div><h3>Why This Martian Full Moon Looks Like Candy</h3></div></div></a><div class=\"list_text\"><div class=\"list_date\">May  9, 2019</div><div class=\"content_title\"><a href=\"/news/8436/why-this-martian-full-moon-looks-like-candy/\" target=\"_self\">Why This Martian Full Moon Looks Like Candy</a></div><div class=\"article_teaser_body\">For the first time, NASA's Mars Odyssey orbiter has caught the Martian moon Phobos during a full moon phase. Each color in this new image represents a temperature range detected by Odyssey's infrared camera.</div></div></div></li><li class=\"slide\"><div class=\"image_and_description_container\"><a href=\"/news/8433/for-insight-dust-cleanings-will-yield-new-science/\" target=\"_self\"><div class=\"rollover_description\"><div class=\"rollover_description_inner\">Wind can be crucial to clearing dust from spacecraft solar panels on Mars. With InSight's meteorological sensors, scientists get their first measurements of wind and dust interacting \"live\" on the Martian surface.  </div><div class=\"overlay_arrow\"><img alt=\"More\" src=\"/assets/overlay-arrow.png\"/></div></div><div class=\"list_image\"><img alt=\"​This is NASA InSight's second full selfie on Mars. Since taking its first selfie, the lander has removed its heat probe and seismometer from its deck, placing them on the Martian surface; a thin coating of dust now covers the spacecraft as well.\" src=\"/system/news_items/list_view_images/8433_PIA23203-320x240.jpg\"/></div><div class=\"bottom_gradient\"><div><h3>For InSight, Dust Cleanings Will Yield New Science</h3></div></div></a><div class=\"list_text\"><div class=\"list_date\">May  6, 2019</div><div class=\"content_title\"><a href=\"/news/8433/for-insight-dust-cleanings-will-yield-new-science/\" target=\"_self\">For InSight, Dust Cleanings Will Yield New Science</a></div><div class=\"article_teaser_body\">Wind can be crucial to clearing dust from spacecraft solar panels on Mars. With InSight's meteorological sensors, scientists get their first measurements of wind and dust interacting \"live\" on the Martian surface.  </div></div></div></li><li class=\"slide\"><div class=\"image_and_description_container\"><a href=\"/news/8432/insight-captures-sunrise-and-sunset-on-mars/\" target=\"_self\"><div class=\"rollover_description\"><div class=\"rollover_description_inner\">InSight joins the rest of NASA's Red Planet surface missions, all of which have photographed either the start or end of a Martian day.</div><div class=\"overlay_arrow\"><img alt=\"More\" src=\"/assets/overlay-arrow.png\"/></div></div><div class=\"list_image\"><img alt=\"NASA's InSight lander used its Instrument Deployment Camera (IDC) on the spacecraft's robotic arm to image this sunrise on Mars on April 24, 2019, the 145th Martian day (or sol) of the mission. This was taken around 5:30 a.m. Mars local time.\" src=\"/system/news_items/list_view_images/8432_PIA23202_raw-320x240.jpg\"/></div><div class=\"bottom_gradient\"><div><h3>InSight Captures Sunrise and Sunset on Mars</h3></div></div></a><div class=\"list_text\"><div class=\"list_date\">May  1, 2019</div><div class=\"content_title\"><a href=\"/news/8432/insight-captures-sunrise-and-sunset-on-mars/\" target=\"_self\">InSight Captures Sunrise and Sunset on Mars</a></div><div class=\"article_teaser_body\">InSight joins the rest of NASA's Red Planet surface missions, all of which have photographed either the start or end of a Martian day.</div></div></div></li><li class=\"slide\"><div class=\"image_and_description_container\"><a href=\"/news/8431/nasa-social-media-and-websites-win-webby-awards/\" target=\"_self\"><div class=\"rollover_description\"><div class=\"rollover_description_inner\">NASA's social media presence, the InSight mission social media accounts, NASA.gov and SolarSystem.NASA.gov will be honored at the 2019 Webby Awards - \"the Oscars of the Internet.\"</div><div class=\"overlay_arrow\"><img alt=\"More\" src=\"/assets/overlay-arrow.png\"/></div></div><div class=\"list_image\"><img alt=\"Numerous Webby and People's Voice awards have honored NASA digital and social media efforts since 1998.Credit: NASA \" src=\"/system/news_items/list_view_images/8431_webby20190423-226.jpg\"/></div><div class=\"bottom_gradient\"><div><h3>NASA Social Media and Websites Win Webby Awards </h3></div></div></a><div class=\"list_text\"><div class=\"list_date\">April 23, 2019</div><div class=\"content_title\"><a href=\"/news/8431/nasa-social-media-and-websites-win-webby-awards/\" target=\"_self\">NASA Social Media and Websites Win Webby Awards </a></div><div class=\"article_teaser_body\">NASA's social media presence, the InSight mission social media accounts, NASA.gov and SolarSystem.NASA.gov will be honored at the 2019 Webby Awards - \"the Oscars of the Internet.\"</div></div></div></li><li class=\"slide\"><div class=\"image_and_description_container\"><a href=\"/news/8430/nasas-insight-detects-first-likely-quake-on-mars/\" target=\"_self\"><div class=\"rollover_description\"><div class=\"rollover_description_inner\">While their causes are still unknown, one of three shaking events looks a lot like the quakes detected on the Moon by the Apollo missions.</div><div class=\"overlay_arrow\"><img alt=\"More\" src=\"/assets/overlay-arrow.png\"/></div></div><div class=\"list_image\"><img alt=\"This image shows InSight's domed Wind and Thermal Shield, which covers its seismometer. The image was taken on the 110th Martian day, or sol, of the mission. The seismometer is called Seismic Experiment for Interior Structure, or SEIS.\" src=\"/system/news_items/list_view_images/8430_PIA23177-th.jpg\"/></div><div class=\"bottom_gradient\"><div><h3>NASA's InSight Detects First Likely 'Quake' on Mars</h3></div></div></a><div class=\"list_text\"><div class=\"list_date\">April 23, 2019</div><div class=\"content_title\"><a href=\"/news/8430/nasas-insight-detects-first-likely-quake-on-mars/\" target=\"_self\">NASA's InSight Detects First Likely 'Quake' on Mars</a></div><div class=\"article_teaser_body\">While their causes are still unknown, one of three shaking events looks a lot like the quakes detected on the Moon by the Apollo missions.</div></div></div></li><li class=\"slide\"><div class=\"image_and_description_container\"><a href=\"/news/8428/things-are-stacking-up-for-nasas-mars-2020-spacecraft/\" target=\"_self\"><div class=\"rollover_description\"><div class=\"rollover_description_inner\">As the July 2020 launch date inches closer, the next spacecraft headed to the Red Planet is assembled for more testing.</div><div class=\"overlay_arrow\"><img alt=\"More\" src=\"/assets/overlay-arrow.png\"/></div></div><div class=\"list_image\"><img alt=\"This image shows major components of NASA's Mars 2020 mission in the High Bay 1 clean room in JPL's Spacecraft Assembly Facility.\" src=\"/system/news_items/list_view_images/8428_PIA-23164timelapse-th.gif\"/></div><div class=\"bottom_gradient\"><div><h3>Things Are Stacking up for NASA's Mars 2020 Spacecraft</h3></div></div></a><div class=\"list_text\"><div class=\"list_date\">April 18, 2019</div><div class=\"content_title\"><a href=\"/news/8428/things-are-stacking-up-for-nasas-mars-2020-spacecraft/\" target=\"_self\">Things Are Stacking up for NASA's Mars 2020 Spacecraft</a></div><div class=\"article_teaser_body\">As the July 2020 launch date inches closer, the next spacecraft headed to the Red Planet is assembled for more testing.</div></div></div></li><li class=\"slide\"><div class=\"image_and_description_container\"><a href=\"/news/8427/curiosity-tastes-first-sample-in-clay-bearing-unit/\" target=\"_self\"><div class=\"rollover_description\"><div class=\"rollover_description_inner\">This new region on Mars might reveal more about the role of water on Mount Sharp.</div><div class=\"overlay_arrow\"><img alt=\"More\" src=\"/assets/overlay-arrow.png\"/></div></div><div class=\"list_image\"><img alt=\"The Mast Camera, or Mastcam, on NASA's Curiosity Mars rover captured this set of images before and after it drilled a rock nicknamed &quot;Aberlady.&quot;\" src=\"/system/news_items/list_view_images/8427_PIA23138-226.gif\"/></div><div class=\"bottom_gradient\"><div><h3>Curiosity Tastes First Sample in 'Clay-Bearing Unit'</h3></div></div></a><div class=\"list_text\"><div class=\"list_date\">April 11, 2019</div><div class=\"content_title\"><a href=\"/news/8427/curiosity-tastes-first-sample-in-clay-bearing-unit/\" target=\"_self\">Curiosity Tastes First Sample in 'Clay-Bearing Unit'</a></div><div class=\"article_teaser_body\">This new region on Mars might reveal more about the role of water on Mount Sharp.</div></div></div></li><li class=\"slide\"><div class=\"image_and_description_container\"><a href=\"/news/8419/more-testing-for-mars-insights-mole/\" target=\"_self\"><div class=\"rollover_description\"><div class=\"rollover_description_inner\">After the mission's heat probe began hammering last week, it appears to have hit a rock. The team is analyzing data before they hammer again.</div><div class=\"overlay_arrow\"><img alt=\"More\" src=\"/assets/overlay-arrow.png\"/></div></div><div class=\"list_image\"><img alt=\"NASA's InSight lander set its heat probe, called the Heat and Physical Properties Package (HP3), on the Martian surface on Feb. 12, 2019.\" src=\"/system/news_items/list_view_images/8419_PIA23046-th.jpg\"/></div><div class=\"bottom_gradient\"><div><h3>More Testing for Mars InSight's 'Mole'</h3></div></div></a><div class=\"list_text\"><div class=\"list_date\">April 11, 2019</div><div class=\"content_title\"><a href=\"/news/8419/more-testing-for-mars-insights-mole/\" target=\"_self\">More Testing for Mars InSight's 'Mole'</a></div><div class=\"article_teaser_body\">After the mission's heat probe began hammering last week, it appears to have hit a rock. The team is analyzing data before they hammer again.</div></div></div></li><li class=\"slide\"><div class=\"image_and_description_container\"><a href=\"/news/8426/nasa-garners-7-webby-award-nominations/\" target=\"_self\"><div class=\"rollover_description\"><div class=\"rollover_description_inner\">Nominees include four JPL projects: the solar system and climate websites, InSight social media, and a 360-degree Earth video. Public voting closes April 18, 2019.</div><div class=\"overlay_arrow\"><img alt=\"More\" src=\"/assets/overlay-arrow.png\"/></div></div><div class=\"list_image\"><img alt=\"Seven NASA websites and social media efforts are nominated for the 2019 Webby People's Voice Awards. Public voting continues through April 18.\" src=\"/system/news_items/list_view_images/8426_Webby2019-320x240.jpg\"/></div><div class=\"bottom_gradient\"><div><h3>NASA Garners 7 Webby Award Nominations</h3></div></div></a><div class=\"list_text\"><div class=\"list_date\">April  5, 2019</div><div class=\"content_title\"><a href=\"/news/8426/nasa-garners-7-webby-award-nominations/\" target=\"_self\">NASA Garners 7 Webby Award Nominations</a></div><div class=\"article_teaser_body\">Nominees include four JPL projects: the solar system and climate websites, InSight social media, and a 360-degree Earth video. Public voting closes April 18, 2019.</div></div></div></li><li class=\"slide\"><div class=\"image_and_description_container\"><a href=\"/news/8425/curiosity-captured-two-solar-eclipses-on-mars/\" target=\"_self\"><div class=\"rollover_description\"><div class=\"rollover_description_inner\">Observing the Martian moons Phobos and Deimos crossing in front of the Sun helps scientists better understand their orbits.</div><div class=\"overlay_arrow\"><img alt=\"More\" src=\"/assets/overlay-arrow.png\"/></div></div><div class=\"list_image\"><img alt=\"his series of images shows the Martian moon Phobos as it crossed in front of the Sun, as seen by NASA's Curiosity Mars rover on Tuesday, March 26, 2019.\" src=\"/system/news_items/list_view_images/8425_PIA23133-320x240.gif\"/></div><div class=\"bottom_gradient\"><div><h3>Curiosity Captured Two Solar Eclipses on Mars</h3></div></div></a><div class=\"list_text\"><div class=\"list_date\">April  4, 2019</div><div class=\"content_title\"><a href=\"/news/8425/curiosity-captured-two-solar-eclipses-on-mars/\" target=\"_self\">Curiosity Captured Two Solar Eclipses on Mars</a></div><div class=\"article_teaser_body\">Observing the Martian moons Phobos and Deimos crossing in front of the Sun helps scientists better understand their orbits.</div></div></div></li><li class=\"slide\"><div class=\"image_and_description_container\"><a href=\"/news/8424/nasas-mars-helicopter-completes-flight-tests/\" target=\"_self\"><div class=\"rollover_description\"><div class=\"rollover_description_inner\">The first helicopter to fly on Mars had its first flight on Earth.</div><div class=\"overlay_arrow\"><img alt=\"More\" src=\"/assets/overlay-arrow.png\"/></div></div><div class=\"list_image\"><img alt=\"Members of the NASA Mars Helicopter team inspect the flight model.\" src=\"/system/news_items/list_view_images/8424_PIA23155-320x240.jpg\"/></div><div class=\"bottom_gradient\"><div><h3>NASA's Mars Helicopter Completes Flight Tests</h3></div></div></a><div class=\"list_text\"><div class=\"list_date\">March 28, 2019</div><div class=\"content_title\"><a href=\"/news/8424/nasas-mars-helicopter-completes-flight-tests/\" target=\"_self\">NASA's Mars Helicopter Completes Flight Tests</a></div><div class=\"article_teaser_body\">The first helicopter to fly on Mars had its first flight on Earth.</div></div></div></li><li class=\"slide\"><div class=\"image_and_description_container\"><a href=\"/news/8423/asteroids-hydrogen-make-great-recipe-for-life-on-mars/\" target=\"_self\"><div class=\"rollover_description\"><div class=\"rollover_description_inner\">Laser blasts in lab tests suggest asteroid bombardment could have provided key ingredients for life on ancient Mars.</div><div class=\"overlay_arrow\"><img alt=\"More\" src=\"/assets/overlay-arrow.png\"/></div></div><div class=\"list_image\"><img alt=\"This self-portrait of NASA's Curiosity Mars rover shows the vehicle on Vera Rubin Ridge, which it's been investigating for the past several months. \" src=\"/system/news_items/list_view_images/8423_21472_pia22207_320.jpg\"/></div><div class=\"bottom_gradient\"><div><h3>Asteroids, Hydrogen Make Great Recipe for Life on Mars</h3></div></div></a><div class=\"list_text\"><div class=\"list_date\">March 25, 2019</div><div class=\"content_title\"><a href=\"/news/8423/asteroids-hydrogen-make-great-recipe-for-life-on-mars/\" target=\"_self\">Asteroids, Hydrogen Make Great Recipe for Life on Mars</a></div><div class=\"article_teaser_body\">Laser blasts in lab tests suggest asteroid bombardment could have provided key ingredients for life on ancient Mars.</div></div></div></li><li class=\"slide\"><div class=\"image_and_description_container\"><a href=\"/news/8422/catch-nasas-jpl-at-the-clippers-scifest-this-weekend/\" target=\"_self\"><div class=\"rollover_description\"><div class=\"rollover_description_inner\">Students and families can meet a Mars rover, take a virtual tour through our solar system and explore alien worlds with NASA's Jet Propulsion Laboratory at the Clippers SciFest SoCal.</div><div class=\"overlay_arrow\"><img alt=\"More\" src=\"/assets/overlay-arrow.png\"/></div></div><div class=\"list_image\"><img alt=\"Anya Biferno of NASA's JPL demonstrates how to find a planet outside our solar system at the USA Science and Engineering Festival in 2014.\" src=\"/system/news_items/list_view_images/8422_USASEF2019-th.jpg\"/></div><div class=\"bottom_gradient\"><div><h3>Catch NASA's JPL at the Clippers SciFest This Weekend</h3></div></div></a><div class=\"list_text\"><div class=\"list_date\">March 21, 2019</div><div class=\"content_title\"><a href=\"/news/8422/catch-nasas-jpl-at-the-clippers-scifest-this-weekend/\" target=\"_self\">Catch NASA's JPL at the Clippers SciFest This Weekend</a></div><div class=\"article_teaser_body\">Students and families can meet a Mars rover, take a virtual tour through our solar system and explore alien worlds with NASA's Jet Propulsion Laboratory at the Clippers SciFest SoCal.</div></div></div></li><li class=\"slide\"><div class=\"image_and_description_container\"><a href=\"/news/8421/nasas-mars-2020-rover-is-put-to-the-test/\" target=\"_self\"><div class=\"rollover_description\"><div class=\"rollover_description_inner\">In January, Mars 2020 engineers and technicians took over JPL's cleanroom to put the mission's cruise, entry capsule, descent stage and rover through their paces.</div><div class=\"overlay_arrow\"><img alt=\"More\" src=\"/assets/overlay-arrow.png\"/></div></div><div class=\"list_image\"><img alt=\"Technicians working Mars 2020’s System’s Test 1 approach their workstation in the Spacecraft Assembly Facility at NASA’s Jet Propulsion Laboratory\" src=\"/system/news_items/list_view_images/8421_PIA22966-320x240.jpg\"/></div><div class=\"bottom_gradient\"><div><h3>NASA's Mars 2020 Rover Is Put to the Test</h3></div></div></a><div class=\"list_text\"><div class=\"list_date\">March 19, 2019</div><div class=\"content_title\"><a href=\"/news/8421/nasas-mars-2020-rover-is-put-to-the-test/\" target=\"_self\">NASA's Mars 2020 Rover Is Put to the Test</a></div><div class=\"article_teaser_body\">In January, Mars 2020 engineers and technicians took over JPL's cleanroom to put the mission's cruise, entry capsule, descent stage and rover through their paces.</div></div></div></li><li class=\"slide\"><div class=\"image_and_description_container\"><a href=\"/news/8420/opportunitys-parting-shot-was-a-beautiful-panorama/\" target=\"_self\"><div class=\"rollover_description\"><div class=\"rollover_description_inner\">NASA declared the record-setting rover's mission complete on Feb. 13, 2019, but the final image from the rover has just been processed.</div><div class=\"overlay_arrow\"><img alt=\"More\" src=\"/assets/overlay-arrow.png\"/></div></div><div class=\"list_image\"><img alt=\"This image is a cropped version of the last 360-degree panorama taken by the Opportunity rover's Panoramic Camera (Pancam) from May 13 through June 10, 2018. The view is presented in false color to make some differences between materials easier to see.\" src=\"/system/news_items/list_view_images/8420_PIA22908-LegacyPan-False-226.jpg\"/></div><div class=\"bottom_gradient\"><div><h3>Opportunity's Parting Shot Was a Beautiful Panorama</h3></div></div></a><div class=\"list_text\"><div class=\"list_date\">March 12, 2019</div><div class=\"content_title\"><a href=\"/news/8420/opportunitys-parting-shot-was-a-beautiful-panorama/\" target=\"_self\">Opportunity's Parting Shot Was a Beautiful Panorama</a></div><div class=\"article_teaser_body\">NASA declared the record-setting rover's mission complete on Feb. 13, 2019, but the final image from the rover has just been processed.</div></div></div></li><li class=\"slide\"><div class=\"image_and_description_container\"><a href=\"/news/8416/curiosity-resumes-operations-after-switching-computers/\" target=\"_self\"><div class=\"rollover_description\"><div class=\"rollover_description_inner\">Curiosity experienced a computer reset on its Side-A computer on Wednesday, March 6, 2019 (Sol 2,339), that triggered the rover's safe mode.</div><div class=\"overlay_arrow\"><img alt=\"More\" src=\"/assets/overlay-arrow.png\"/></div></div><div class=\"list_image\"><img alt=\"NASA's Curiosity Mars took this image with its Mastcam on Feb. 10, 2019 (Sol 2316). The rover is currently exploring a region of Mount Sharp nicknamed &quot;Glen Torridon&quot; that has lots of clay minerals.\" src=\"/system/news_items/list_view_images/8416_PIA23047-th.jpg\"/></div><div class=\"bottom_gradient\"><div><h3>Curiosity Resumes Operations After Switching Computers</h3></div></div></a><div class=\"list_text\"><div class=\"list_date\">March 12, 2019</div><div class=\"content_title\"><a href=\"/news/8416/curiosity-resumes-operations-after-switching-computers/\" target=\"_self\">Curiosity Resumes Operations After Switching Computers</a></div><div class=\"article_teaser_body\">Curiosity experienced a computer reset on its Side-A computer on Wednesday, March 6, 2019 (Sol 2,339), that triggered the rover's safe mode.</div></div></div></li><li class=\"slide\"><div class=\"image_and_description_container\"><a href=\"/news/8417/insight-lands-praise-and-a-proclamation-from-la-county/\" target=\"_self\"><div class=\"rollover_description\"><div class=\"rollover_description_inner\">Several members of the Mars InSight team accepted a proclamation on behalf of the mission from L.A. County Board of Supervisors on Tuesday, Feb. 19.</div><div class=\"overlay_arrow\"><img alt=\"More\" src=\"/assets/overlay-arrow.png\"/></div></div><div class=\"list_image\"><img alt=\"L.A. County Supervisor Kathryn Barger (center) presented the proclamation to the InSight team, represented by (left to right) Chuck Scott, Tom Hoffman, Bruce Banerdt, Pilar Leon and Christine Szalai. \" src=\"/system/news_items/list_view_images/8417_insight20190225-th.jpg\"/></div><div class=\"bottom_gradient\"><div><h3>InSight Lands Praise and a Proclamation from LA County</h3></div></div></a><div class=\"list_text\"><div class=\"list_date\">February 25, 2019</div><div class=\"content_title\"><a href=\"/news/8417/insight-lands-praise-and-a-proclamation-from-la-county/\" target=\"_self\">InSight Lands Praise and a Proclamation from LA County</a></div><div class=\"article_teaser_body\">Several members of the Mars InSight team accepted a proclamation on behalf of the mission from L.A. County Board of Supervisors on Tuesday, Feb. 19.</div></div></div></li><li class=\"slide\"><div class=\"image_and_description_container\"><a href=\"/news/8415/insight-is-the-newest-mars-weather-service/\" target=\"_self\"><div class=\"rollover_description\"><div class=\"rollover_description_inner\">By collecting data around the clock, NASA's lander will provide unique science about the Martian surface.</div><div class=\"overlay_arrow\"><img alt=\"More\" src=\"/assets/overlay-arrow.png\"/></div></div><div class=\"list_image\"><img alt=\"The white east- and west-facing booms — called Temperature and Wind for InSight, or TWINS — on the deck of NASA's InSight lander belong to its suite of weather sensors.\" src=\"/system/news_items/list_view_images/8415_PIA22876-th.jpg\"/></div><div class=\"bottom_gradient\"><div><h3>InSight Is the Newest Mars Weather Service</h3></div></div></a><div class=\"list_text\"><div class=\"list_date\">February 19, 2019</div><div class=\"content_title\"><a href=\"/news/8415/insight-is-the-newest-mars-weather-service/\" target=\"_self\">InSight Is the Newest Mars Weather Service</a></div><div class=\"article_teaser_body\">By collecting data around the clock, NASA's lander will provide unique science about the Martian surface.</div></div></div></li><li class=\"slide\"><div class=\"image_and_description_container\"><a href=\"/news/8414/six-things-to-know-about-nasas-opportunity-rover/\" target=\"_self\"><div class=\"rollover_description\"><div class=\"rollover_description_inner\">Opportunity's mission is complete. Here are highlights from its time on Mars.</div><div class=\"overlay_arrow\"><img alt=\"More\" src=\"/assets/overlay-arrow.png\"/></div></div><div class=\"list_image\"><img alt=\"This scene from the panoramic camera on NASA's Mars Exploration Rover Opportunity looks back toward part of the west rim of Endeavour Crater that the rover drove along, heading southward, during the summer of 2014. \" src=\"/system/news_items/list_view_images/8414_1_MAIN_th.jpg\"/></div><div class=\"bottom_gradient\"><div><h3>Six Things to Know About NASA's Opportunity Rover</h3></div></div></a><div class=\"list_text\"><div class=\"list_date\">February 13, 2019</div><div class=\"content_title\"><a href=\"/news/8414/six-things-to-know-about-nasas-opportunity-rover/\" target=\"_self\">Six Things to Know About NASA's Opportunity Rover</a></div><div class=\"article_teaser_body\">Opportunity's mission is complete. Here are highlights from its time on Mars.</div></div></div></li><li class=\"slide\"><div class=\"image_and_description_container\"><a href=\"/news/8413/nasas-opportunity-rover-mission-on-mars-comes-to-end/\" target=\"_self\"><div class=\"rollover_description\"><div class=\"rollover_description_inner\">NASA's Opportunity Mars rover mission is complete after 15 years on Mars. Opportunity's record-breaking exploration laid the groundwork for future missions to the Red Planet.</div><div class=\"overlay_arrow\"><img alt=\"More\" src=\"/assets/overlay-arrow.png\"/></div></div><div class=\"list_image\"><img alt=\"Opportunity Catches its Shadow\" src=\"/system/news_items/list_view_images/8413_PIA06739-320x240.jpg\"/></div><div class=\"bottom_gradient\"><div><h3>NASA's Opportunity Rover Mission on Mars Comes to End</h3></div></div></a><div class=\"list_text\"><div class=\"list_date\">February 13, 2019</div><div class=\"content_title\"><a href=\"/news/8413/nasas-opportunity-rover-mission-on-mars-comes-to-end/\" target=\"_self\">NASA's Opportunity Rover Mission on Mars Comes to End</a></div><div class=\"article_teaser_body\">NASA's Opportunity Mars rover mission is complete after 15 years on Mars. Opportunity's record-breaking exploration laid the groundwork for future missions to the Red Planet.</div></div></div></li><li class=\"slide\"><div class=\"image_and_description_container\"><a href=\"/news/8412/nasas-insight-prepares-to-take-mars-temperature/\" target=\"_self\"><div class=\"rollover_description\"><div class=\"rollover_description_inner\">The lander's second instrument is on the ground. But its ‘mole’ — a burrowing probe — has a long way to go.</div><div class=\"overlay_arrow\"><img alt=\"More\" src=\"/assets/overlay-arrow.png\"/></div></div><div class=\"list_image\"><img alt=\"NASA's InSight lander set its heat probe, called the Heat and Physical Properties Package (HP3), on the Martian surface on Feb. 12.\" src=\"/system/news_items/list_view_images/8412_PIA23046-320x240.jpg\"/></div><div class=\"bottom_gradient\"><div><h3>NASA's InSight Prepares to Take Mars' Temperature</h3></div></div></a><div class=\"list_text\"><div class=\"list_date\">February 13, 2019</div><div class=\"content_title\"><a href=\"/news/8412/nasas-insight-prepares-to-take-mars-temperature/\" target=\"_self\">NASA's InSight Prepares to Take Mars' Temperature</a></div><div class=\"article_teaser_body\">The lander's second instrument is on the ground. But its ‘mole’ — a burrowing probe — has a long way to go.</div></div></div></li><li class=\"slide\"><div class=\"image_and_description_container\"><a href=\"/news/8411/nasa-to-share-results-of-effort-to-recover-mars-rover/\" target=\"_self\"><div class=\"rollover_description\"><div class=\"rollover_description_inner\">NASA will discuss the status of its Mars Exploration Rover Opportunity in a media briefing at 11 a.m. PST (2 p.m. EST) Wednesday, Feb. 13, from the Jet Propulsion Laboratory.</div><div class=\"overlay_arrow\"><img alt=\"More\" src=\"/assets/overlay-arrow.png\"/></div></div><div class=\"list_image\"><img alt=\"An artist's concept portrays a NASA Mars Exploration Rover on the surface of Mars. Two rovers were launched in 2003 and arrived at sites on Mars in January 2004. Each rover was built to have the mobility and toolkit for functioning as a robotic geologist.\" src=\"/system/news_items/list_view_images/8411_3904_PIA04413a-th.jpg\"/></div><div class=\"bottom_gradient\"><div><h3>NASA to Share Results of Effort to Recover Mars Rover</h3></div></div></a><div class=\"list_text\"><div class=\"list_date\">February 12, 2019</div><div class=\"content_title\"><a href=\"/news/8411/nasa-to-share-results-of-effort-to-recover-mars-rover/\" target=\"_self\">NASA to Share Results of Effort to Recover Mars Rover</a></div><div class=\"article_teaser_body\">NASA will discuss the status of its Mars Exploration Rover Opportunity in a media briefing at 11 a.m. PST (2 p.m. EST) Wednesday, Feb. 13, from the Jet Propulsion Laboratory.</div></div></div></li><li class=\"slide\"><div class=\"image_and_description_container\"><a href=\"/news/8410/nasas-maven-spacecraft-shrinking-its-mars-orbit-to-prepare-for-mars-2020-rover/\" target=\"_self\"><div class=\"rollover_description\"><div class=\"rollover_description_inner\">The MAVEN spacecraft today is starting a campaign to tighten its orbit around Mars to prepare to serve as a data-relay satellite for NASA’s Mars 2020 rover, which launches next year.</div><div class=\"overlay_arrow\"><img alt=\"More\" src=\"/assets/overlay-arrow.png\"/></div></div><div class=\"list_image\"><img alt=\"Aerobraking plan for MAVEN\" src=\"/system/news_items/list_view_images/8410_mavennotext-th.jpg\"/></div><div class=\"bottom_gradient\"><div><h3>NASA's MAVEN Spacecraft Shrinking its Mars Orbit to Prepare for Mars 2020 Rover</h3></div></div></a><div class=\"list_text\"><div class=\"list_date\">February 11, 2019</div><div class=\"content_title\"><a href=\"/news/8410/nasas-maven-spacecraft-shrinking-its-mars-orbit-to-prepare-for-mars-2020-rover/\" target=\"_self\">NASA's MAVEN Spacecraft Shrinking its Mars Orbit to Prepare for Mars 2020 Rover</a></div><div class=\"article_teaser_body\">The MAVEN spacecraft today is starting a campaign to tighten its orbit around Mars to prepare to serve as a data-relay satellite for NASA’s Mars 2020 rover, which launches next year.</div></div></div></li><li class=\"slide\"><div class=\"image_and_description_container\"><a href=\"/news/8409/360-video-curiosity-rover-departs-vera-rubin-ridge/\" target=\"_self\"><div class=\"rollover_description\"><div class=\"rollover_description_inner\">This panorama from the Mast Camera (Mastcam) on NASA's Curiosity Mars rover was taken on Dec. 19 (Sol 2265). The rover's last drill location on Vera Rubin Ridge is visible, as well as the clay region it will spend the next year exploring.</div><div class=\"overlay_arrow\"><img alt=\"More\" src=\"/assets/overlay-arrow.png\"/></div></div><div class=\"list_image\"><img alt=\"\" src=\"/system/news_items/list_view_images/8409_22288_PIA23042-320x240.jpg\"/></div><div class=\"bottom_gradient\"><div><h3>360 Video: Curiosity Rover Departs Vera Rubin Ridge</h3></div></div></a><div class=\"list_text\"><div class=\"list_date\">February  8, 2019</div><div class=\"content_title\"><a href=\"/news/8409/360-video-curiosity-rover-departs-vera-rubin-ridge/\" target=\"_self\">360 Video: Curiosity Rover Departs Vera Rubin Ridge</a></div><div class=\"article_teaser_body\">This panorama from the Mast Camera (Mastcam) on NASA's Curiosity Mars rover was taken on Dec. 19 (Sol 2265). The rover's last drill location on Vera Rubin Ridge is visible, as well as the clay region it will spend the next year exploring.</div></div></div></li><li class=\"slide\"><div class=\"image_and_description_container\"><a href=\"/news/8408/beyond-mars-the-mini-marco-spacecraft-fall-silent/\" target=\"_self\"><div class=\"rollover_description\"><div class=\"rollover_description_inner\">The first CubeSat mission to deep space may have reached their limit, but they could inspire future NASA missions.</div><div class=\"overlay_arrow\"><img alt=\"More\" src=\"/assets/overlay-arrow.png\"/></div></div><div class=\"list_image\"><img alt=\"MarCO-B, one of the experimental Mars Cube One (MarCO) CubeSats, took these images as it approached Mars.\" src=\"/system/news_items/list_view_images/8408_22206_PIA22655-th.gif\"/></div><div class=\"bottom_gradient\"><div><h3>Beyond Mars, the Mini MarCO Spacecraft Fall Silent</h3></div></div></a><div class=\"list_text\"><div class=\"list_date\">February  5, 2019</div><div class=\"content_title\"><a href=\"/news/8408/beyond-mars-the-mini-marco-spacecraft-fall-silent/\" target=\"_self\">Beyond Mars, the Mini MarCO Spacecraft Fall Silent</a></div><div class=\"article_teaser_body\">The first CubeSat mission to deep space may have reached their limit, but they could inspire future NASA missions.</div></div></div></li><li class=\"slide\"><div class=\"image_and_description_container\"><a href=\"/news/8407/insights-seismometer-now-has-a-cozy-shelter-on-mars/\" target=\"_self\"><div class=\"rollover_description\"><div class=\"rollover_description_inner\">A domed shield has been set over one of InSight's primary science instruments, protecting it from Mars' wind and temperature changes.</div><div class=\"overlay_arrow\"><img alt=\"More\" src=\"/assets/overlay-arrow.png\"/></div></div><div class=\"list_image\"><img alt=\"NASA's InSight lander deployed its Wind and Thermal Shield on Feb. 2 (Sol 66). The shield covers InSight's seismometer, which was set down onto the Martian surface on Dec. 19.\" src=\"/system/news_items/list_view_images/8407_PIA22959-th.jpg\"/></div><div class=\"bottom_gradient\"><div><h3>InSight's Seismometer Now Has a Cozy Shelter on Mars</h3></div></div></a><div class=\"list_text\"><div class=\"list_date\">February  4, 2019</div><div class=\"content_title\"><a href=\"/news/8407/insights-seismometer-now-has-a-cozy-shelter-on-mars/\" target=\"_self\">InSight's Seismometer Now Has a Cozy Shelter on Mars</a></div><div class=\"article_teaser_body\">A domed shield has been set over one of InSight's primary science instruments, protecting it from Mars' wind and temperature changes.</div></div></div></li><li class=\"slide\"><div class=\"image_and_description_container\"><a href=\"/news/8406/mars-buggy-curiosity-measures-a-mountains-gravity/\" target=\"_self\"><div class=\"rollover_description\"><div class=\"rollover_description_inner\">Smartphone-like sensors on the NASA rover were used to calculate the density of Mount Sharp, offering new clues to its formation.</div><div class=\"overlay_arrow\"><img alt=\"More\" src=\"/assets/overlay-arrow.png\"/></div></div><div class=\"list_image\"><img alt=\"Side-by-side images depict NASA's Curiosity rover (left) and a moon buggy driven during the Apollo 16 mission. \" src=\"/system/news_items/list_view_images/8406_marsrover-lunarrover-th.gif\"/></div><div class=\"bottom_gradient\"><div><h3>\"Mars Buggy\" Curiosity Measures a Mountain's Gravity</h3></div></div></a><div class=\"list_text\"><div class=\"list_date\">January 31, 2019</div><div class=\"content_title\"><a href=\"/news/8406/mars-buggy-curiosity-measures-a-mountains-gravity/\" target=\"_self\">\"Mars Buggy\" Curiosity Measures a Mountain's Gravity</a></div><div class=\"article_teaser_body\">Smartphone-like sensors on the NASA rover were used to calculate the density of Mount Sharp, offering new clues to its formation.</div></div></div></li><li class=\"slide\"><div class=\"image_and_description_container\"><a href=\"/news/8405/curiosity-says-farewell-to-mars-vera-rubin-ridge/\" target=\"_self\"><div class=\"rollover_description\"><div class=\"rollover_description_inner\">The Mars rover is moving on and has taken its last selfie on the ridge it's explored for more than a year.</div><div class=\"overlay_arrow\"><img alt=\"More\" src=\"/assets/overlay-arrow.png\"/></div></div><div class=\"list_image\"><img alt=\"\" src=\"/system/news_items/list_view_images/8405_PIA22960-th.jpg\"/></div><div class=\"bottom_gradient\"><div><h3>Curiosity Says Farewell to Mars' Vera Rubin Ridge</h3></div></div></a><div class=\"list_text\"><div class=\"list_date\">January 28, 2019</div><div class=\"content_title\"><a href=\"/news/8405/curiosity-says-farewell-to-mars-vera-rubin-ridge/\" target=\"_self\">Curiosity Says Farewell to Mars' Vera Rubin Ridge</a></div><div class=\"article_teaser_body\">The Mars rover is moving on and has taken its last selfie on the ridge it's explored for more than a year.</div></div></div></li><li class=\"slide\"><div class=\"image_and_description_container\"><a href=\"/news/8404/rover-team-beaming-new-commands-to-opportunity-on-mars/\" target=\"_self\"><div class=\"rollover_description\"><div class=\"rollover_description_inner\">Engineers at JPL have begun transmitting a new set of commands to Opportunity in an attempt to compel the Mars rover to contact Earth.</div><div class=\"overlay_arrow\"><img alt=\"More\" src=\"/assets/overlay-arrow.png\"/></div></div><div class=\"list_image\"><img alt=\"A Goldstone 111.5-foot (34-meter) beam-waveguide antenna tracks a spacecraft as it comes into view. The Goldstone Deep Space Communications Complex is located in the Mojave Desert in California.\" src=\"/system/news_items/list_view_images/8404_PIA17791-th.jpg\"/></div><div class=\"bottom_gradient\"><div><h3>Rover Team Beaming New Commands to Opportunity on Mars</h3></div></div></a><div class=\"list_text\"><div class=\"list_date\">January 25, 2019</div><div class=\"content_title\"><a href=\"/news/8404/rover-team-beaming-new-commands-to-opportunity-on-mars/\" target=\"_self\">Rover Team Beaming New Commands to Opportunity on Mars</a></div><div class=\"article_teaser_body\">Engineers at JPL have begun transmitting a new set of commands to Opportunity in an attempt to compel the Mars rover to contact Earth.</div></div></div></li><li class=\"slide\"><div class=\"image_and_description_container\"><a href=\"/news/8403/nasas-opportunity-rover-logs-15-years-on-mars/\" target=\"_self\"><div class=\"rollover_description\"><div class=\"rollover_description_inner\">The rover landed in a region of the Red Planet called Meridiani Planum 16 years ago today, on Jan. 24, 2004.</div><div class=\"overlay_arrow\"><img alt=\"More\" src=\"/assets/overlay-arrow.png\"/></div></div><div class=\"list_image\"><img alt=\"An artist's concept portrays a NASA Mars Exploration Rover on the surface of Mars. Credit: NASA/JPL/Cornell University.\" src=\"/system/news_items/list_view_images/8403_PIA04413a-thmfeat.jpg\"/></div><div class=\"bottom_gradient\"><div><h3>NASA's Opportunity Rover Logs 15 Years on Mars</h3></div></div></a><div class=\"list_text\"><div class=\"list_date\">January 24, 2019</div><div class=\"content_title\"><a href=\"/news/8403/nasas-opportunity-rover-logs-15-years-on-mars/\" target=\"_self\">NASA's Opportunity Rover Logs 15 Years on Mars</a></div><div class=\"article_teaser_body\">The rover landed in a region of the Red Planet called Meridiani Planum 16 years ago today, on Jan. 24, 2004.</div></div></div></li><li class=\"slide\"><div class=\"image_and_description_container\"><a href=\"/news/8402/nasas-insight-places-first-instrument-on-mars/\" target=\"_self\"><div class=\"rollover_description\"><div class=\"rollover_description_inner\">In deploying its first instrument onto the surface of Mars, the lander completes a major mission milestone.</div><div class=\"overlay_arrow\"><img alt=\"More\" src=\"/assets/overlay-arrow.png\"/></div></div><div class=\"list_image\"><img alt=\"\" src=\"/system/news_items/list_view_images/8402_PIA22977_SEIS_deploy_IDC_calibrated-th.gif\"/></div><div class=\"bottom_gradient\"><div><h3>NASA's InSight Places First Instrument on Mars</h3></div></div></a><div class=\"list_text\"><div class=\"list_date\">December 19, 2018</div><div class=\"content_title\"><a href=\"/news/8402/nasas-insight-places-first-instrument-on-mars/\" target=\"_self\">NASA's InSight Places First Instrument on Mars</a></div><div class=\"article_teaser_body\">In deploying its first instrument onto the surface of Mars, the lander completes a major mission milestone.</div></div></div></li><li class=\"slide\"><div class=\"image_and_description_container\"><a href=\"/news/8401/insight-engineers-have-made-a-martian-rock-garden/\" target=\"_self\"><div class=\"rollover_description\"><div class=\"rollover_description_inner\">Reconstructing Mars here on Earth lets them practice setting down the lander's science instruments.</div><div class=\"overlay_arrow\"><img alt=\"More\" src=\"/assets/overlay-arrow.png\"/></div></div><div class=\"list_image\"><img alt=\"Engineers practice deploying InSight's instruments in a lab at NASA's Jet Propulsion Laboratory in Pasadena, California. Several of them are wearing sunglasses to block the bright yellow lights in the test space, which mimic sunlight as it appears on Mars.\" src=\"/system/news_items/list_view_images/8401_PIA22744-th.jpg\"/></div><div class=\"bottom_gradient\"><div><h3>InSight Engineers Have Made a Martian Rock Garden</h3></div></div></a><div class=\"list_text\"><div class=\"list_date\">December 18, 2018</div><div class=\"content_title\"><a href=\"/news/8401/insight-engineers-have-made-a-martian-rock-garden/\" target=\"_self\">InSight Engineers Have Made a Martian Rock Garden</a></div><div class=\"article_teaser_body\">Reconstructing Mars here on Earth lets them practice setting down the lander's science instruments.</div></div></div></li><li class=\"slide\"><div class=\"image_and_description_container\"><a href=\"/news/8400/mars-insight-lander-seen-in-first-images-from-space/\" target=\"_self\"><div class=\"rollover_description\"><div class=\"rollover_description_inner\">Look closely, and you can make out the lander's solar panels.</div><div class=\"overlay_arrow\"><img alt=\"More\" src=\"/assets/overlay-arrow.png\"/></div></div><div class=\"list_image\"><img alt=\"NASA's InSight spacecraft, its heat shield and its parachute were imaged on Dec. 6 and 11 by the HiRISE camera onboard NASA's Mars Reconnaissance Orbiter.\" src=\"/system/news_items/list_view_images/8400_PIA22875-16_320.png\"/></div><div class=\"bottom_gradient\"><div><h3>Mars InSight Lander Seen in First Images from Space </h3></div></div></a><div class=\"list_text\"><div class=\"list_date\">December 13, 2018</div><div class=\"content_title\"><a href=\"/news/8400/mars-insight-lander-seen-in-first-images-from-space/\" target=\"_self\">Mars InSight Lander Seen in First Images from Space </a></div><div class=\"article_teaser_body\">Look closely, and you can make out the lander's solar panels.</div></div></div></li><li class=\"slide\"><div class=\"image_and_description_container\"><a href=\"/news/8398/nasas-insight-takes-its-first-selfie/\" target=\"_self\"><div class=\"rollover_description\"><div class=\"rollover_description_inner\">Two new image mosaics detail the lander's deck and \"workspace\" — the surface where it will eventually set down its science instruments.</div><div class=\"overlay_arrow\"><img alt=\"More\" src=\"/assets/overlay-arrow.png\"/></div></div><div class=\"list_image\"><img alt=\"This is NASA InSight's first full selfie on Mars. It displays the lander's solar panels and deck. On top of the deck are its science instruments, weather sensor booms and UHF antenna.\" src=\"/system/news_items/list_view_images/8398_PIA22876_320.png\"/></div><div class=\"bottom_gradient\"><div><h3>NASA's InSight Takes Its First Selfie</h3></div></div></a><div class=\"list_text\"><div class=\"list_date\">December 11, 2018</div><div class=\"content_title\"><a href=\"/news/8398/nasas-insight-takes-its-first-selfie/\" target=\"_self\">NASA's InSight Takes Its First Selfie</a></div><div class=\"article_teaser_body\">Two new image mosaics detail the lander's deck and \"workspace\" — the surface where it will eventually set down its science instruments.</div></div></div></li><li class=\"slide\"><div class=\"image_and_description_container\"><a href=\"/news/8397/nasa-insight-lander-hears-martian-winds/\" target=\"_self\"><div class=\"rollover_description\"><div class=\"rollover_description_inner\">Vibrations picked up by two spacecraft instruments have provided the first sounds of Martian wind.</div><div class=\"overlay_arrow\"><img alt=\"More\" src=\"/assets/overlay-arrow.png\"/></div></div><div class=\"list_image\"><img alt=\"One of InSight's 7-foot (2.2 meter) wide solar panels was imaged by the lander's Instrument Deployment Camera, which is fixed to the elbow of its robotic arm. \" src=\"/system/news_items/list_view_images/8397_1_PIA22736-th.jpg\"/></div><div class=\"bottom_gradient\"><div><h3>NASA InSight Lander 'Hears' Martian Winds </h3></div></div></a><div class=\"list_text\"><div class=\"list_date\">December  7, 2018</div><div class=\"content_title\"><a href=\"/news/8397/nasa-insight-lander-hears-martian-winds/\" target=\"_self\">NASA InSight Lander 'Hears' Martian Winds </a></div><div class=\"article_teaser_body\">Vibrations picked up by two spacecraft instruments have provided the first sounds of Martian wind.</div></div></div></li><li class=\"slide\"><div class=\"image_and_description_container\"><a href=\"/news/8396/nasas-mars-insight-flexes-its-arm/\" target=\"_self\"><div class=\"rollover_description\"><div class=\"rollover_description_inner\">Now unstowed, the spacecraft's robotic arm will point a camera located on its elbow and take images of the surroundings.</div><div class=\"overlay_arrow\"><img alt=\"More\" src=\"/assets/overlay-arrow.png\"/></div></div><div class=\"list_image\"><img alt=\"InSight's robotic-arm mounted Instrument Deployment Camera shows the instruments on the spacecraft's deck.\" src=\"/system/news_items/list_view_images/8396_PIA22871-th.jpg\"/></div><div class=\"bottom_gradient\"><div><h3>NASA's Mars InSight Flexes Its Arm</h3></div></div></a><div class=\"list_text\"><div class=\"list_date\">December  6, 2018</div><div class=\"content_title\"><a href=\"/news/8396/nasas-mars-insight-flexes-its-arm/\" target=\"_self\">NASA's Mars InSight Flexes Its Arm</a></div><div class=\"article_teaser_body\">Now unstowed, the spacecraft's robotic arm will point a camera located on its elbow and take images of the surroundings.</div></div></div></li><li class=\"slide\"><div class=\"image_and_description_container\"><a href=\"/news/8395/mars-new-home-a-large-sandbox/\" target=\"_self\"><div class=\"rollover_description\"><div class=\"rollover_description_inner\">With InSight safely on the surface of Mars, the mission team is busy learning more about the spacecraft's landing site.</div><div class=\"overlay_arrow\"><img alt=\"More\" src=\"/assets/overlay-arrow.png\"/></div></div><div class=\"list_image\"><img alt=\"NASA’s InSight spacecraft flipped open the lens cover on its Instrument Context Camera (ICC) on Nov. 30, 2018, and captured this view of Mars.\" src=\"/system/news_items/list_view_images/8395_ICCDustCoverOff_C000M0004_596888328EDR_F0000_0461M1_320.png\"/></div><div class=\"bottom_gradient\"><div><h3>Mars New Home 'a Large Sandbox'</h3></div></div></a><div class=\"list_text\"><div class=\"list_date\">November 30, 2018</div><div class=\"content_title\"><a href=\"/news/8395/mars-new-home-a-large-sandbox/\" target=\"_self\">Mars New Home 'a Large Sandbox'</a></div><div class=\"article_teaser_body\">With InSight safely on the surface of Mars, the mission team is busy learning more about the spacecraft's landing site.</div></div></div></li><li class=\"slide\"><div class=\"image_and_description_container\"><a href=\"/news/8394/nasa-hears-marco-cubesats-loud-and-clear-from-mars/\" target=\"_self\"><div class=\"rollover_description\"><div class=\"rollover_description_inner\">A pair of tiny, experimental spacecraft fulfilled their mission yesterday, relaying back near-real-time data during InSight's landing.</div><div class=\"overlay_arrow\"><img alt=\"More\" src=\"/assets/overlay-arrow.png\"/></div></div><div class=\"list_image\"><img alt=\"MarCO-B took this image of Mars from about 4,700 miles (7,600 kilometers) away during its flyby of Mars on Nov. 26, 2018.\" src=\"/system/news_items/list_view_images/8394_MarCOfarewell_320.jpg\"/></div><div class=\"bottom_gradient\"><div><h3>NASA Hears MarCO CubeSats Loud and Clear from Mars </h3></div></div></a><div class=\"list_text\"><div class=\"list_date\">November 27, 2018</div><div class=\"content_title\"><a href=\"/news/8394/nasa-hears-marco-cubesats-loud-and-clear-from-mars/\" target=\"_self\">NASA Hears MarCO CubeSats Loud and Clear from Mars </a></div><div class=\"article_teaser_body\">A pair of tiny, experimental spacecraft fulfilled their mission yesterday, relaying back near-real-time data during InSight's landing.</div></div></div></li><li class=\"slide\"><div class=\"image_and_description_container\"><a href=\"/news/8393/insight-is-catching-rays-on-mars/\" target=\"_self\"><div class=\"rollover_description\"><div class=\"rollover_description_inner\">The lander has sent data indicating its solar panels are open and receiving sunlight to power its surface operations.</div><div class=\"overlay_arrow\"><img alt=\"More\" src=\"/assets/overlay-arrow.png\"/></div></div><div class=\"list_image\"><img alt=\"The Instrument Deployment Camera (IDC), located on the robotic arm of NASA's InSight lander, took this photo on the surface of Mars.\" src=\"/system/news_items/list_view_images/8393_D000M0000_596535424EDR_F0000_0106M1-stretch_320.jpg\"/></div><div class=\"bottom_gradient\"><div><h3>InSight Is Catching Rays on Mars</h3></div></div></a><div class=\"list_text\"><div class=\"list_date\">November 26, 2018</div><div class=\"content_title\"><a href=\"/news/8393/insight-is-catching-rays-on-mars/\" target=\"_self\">InSight Is Catching Rays on Mars</a></div><div class=\"article_teaser_body\">The lander has sent data indicating its solar panels are open and receiving sunlight to power its surface operations.</div></div></div></li><li class=\"slide\"><div class=\"image_and_description_container\"><a href=\"/news/8392/nasa-insight-lander-arrives-on-martian-surface/\" target=\"_self\"><div class=\"rollover_description\"><div class=\"rollover_description_inner\">The touchdown marks the eighth time NASA has successfully landed a spacecraft on Mars.</div><div class=\"overlay_arrow\"><img alt=\"More\" src=\"/assets/overlay-arrow.png\"/></div></div><div class=\"list_image\"><img alt=\"The NASA InSight team reacts after receiving confirmation that the spacecraft successfully touched down on the surface of Mars.\" src=\"/system/news_items/list_view_images/8392_touchdown_320.jpg\"/></div><div class=\"bottom_gradient\"><div><h3>NASA InSight Lander Arrives on Martian Surface </h3></div></div></a><div class=\"list_text\"><div class=\"list_date\">November 26, 2018</div><div class=\"content_title\"><a href=\"/news/8392/nasa-insight-lander-arrives-on-martian-surface/\" target=\"_self\">NASA InSight Lander Arrives on Martian Surface </a></div><div class=\"article_teaser_body\">The touchdown marks the eighth time NASA has successfully landed a spacecraft on Mars.</div></div></div></li></ul>"
      ]
     },
     "execution_count": 4,
     "metadata": {},
     "output_type": "execute_result"
    }
   ],
   "source": [
    "element_holder = news_soup.select_one('ul.item_list')\n",
    "element_holder"
   ]
  },
  {
   "cell_type": "code",
   "execution_count": 5,
   "metadata": {},
   "outputs": [
    {
     "data": {
      "text/plain": [
       "bs4.element.Tag"
      ]
     },
     "execution_count": 5,
     "metadata": {},
     "output_type": "execute_result"
    }
   ],
   "source": [
    "type(element_holder)"
   ]
  },
  {
   "cell_type": "code",
   "execution_count": 6,
   "metadata": {},
   "outputs": [
    {
     "data": {
      "text/plain": [
       "'Why This Martian Full Moon Looks Like Candy'"
      ]
     },
     "execution_count": 6,
     "metadata": {},
     "output_type": "execute_result"
    }
   ],
   "source": [
    "single_element_title = news_soup.select_one('ul.item_list li.slide div.content_title').text\n",
    "single_element_title"
   ]
  },
  {
   "cell_type": "code",
   "execution_count": 7,
   "metadata": {},
   "outputs": [
    {
     "data": {
      "text/plain": [
       "\"For the first time, NASA's Mars Odyssey orbiter has caught the Martian moon Phobos during a full moon phase. Each color in this new image represents a temperature range detected by Odyssey's infrared camera.\""
      ]
     },
     "execution_count": 7,
     "metadata": {},
     "output_type": "execute_result"
    }
   ],
   "source": [
    "single_element_article = news_soup.select_one('ul.item_list li.slide div.article_teaser_body').text\n",
    "single_element_article"
   ]
  },
  {
   "cell_type": "code",
   "execution_count": 8,
   "metadata": {},
   "outputs": [
    {
     "name": "stdout",
     "output_type": "stream",
     "text": [
      "-------\n",
      "news_title = \"Why This Martian Full Moon Looks Like Candy\"\n",
      "news_p = \"For the first time, NASA's Mars Odyssey orbiter has caught the Martian moon Phobos during a full moon phase. Each color in this new image represents a temperature range detected by Odyssey's infrared camera.\"\n",
      "-------\n",
      "news_title = \"For InSight, Dust Cleanings Will Yield New Science\"\n",
      "news_p = \"Wind can be crucial to clearing dust from spacecraft solar panels on Mars. With InSight's meteorological sensors, scientists get their first measurements of wind and dust interacting \"live\" on the Martian surface.  \"\n",
      "-------\n",
      "news_title = \"InSight Captures Sunrise and Sunset on Mars\"\n",
      "news_p = \"InSight joins the rest of NASA's Red Planet surface missions, all of which have photographed either the start or end of a Martian day.\"\n",
      "-------\n",
      "news_title = \"NASA Social Media and Websites Win Webby Awards \"\n",
      "news_p = \"NASA's social media presence, the InSight mission social media accounts, NASA.gov and SolarSystem.NASA.gov will be honored at the 2019 Webby Awards - \"the Oscars of the Internet.\"\"\n",
      "-------\n",
      "news_title = \"NASA's InSight Detects First Likely 'Quake' on Mars\"\n",
      "news_p = \"While their causes are still unknown, one of three shaking events looks a lot like the quakes detected on the Moon by the Apollo missions.\"\n",
      "-------\n",
      "news_title = \"Things Are Stacking up for NASA's Mars 2020 Spacecraft\"\n",
      "news_p = \"As the July 2020 launch date inches closer, the next spacecraft headed to the Red Planet is assembled for more testing.\"\n",
      "-------\n",
      "news_title = \"Curiosity Tastes First Sample in 'Clay-Bearing Unit'\"\n",
      "news_p = \"This new region on Mars might reveal more about the role of water on Mount Sharp.\"\n",
      "-------\n",
      "news_title = \"More Testing for Mars InSight's 'Mole'\"\n",
      "news_p = \"After the mission's heat probe began hammering last week, it appears to have hit a rock. The team is analyzing data before they hammer again.\"\n",
      "-------\n",
      "news_title = \"NASA Garners 7 Webby Award Nominations\"\n",
      "news_p = \"Nominees include four JPL projects: the solar system and climate websites, InSight social media, and a 360-degree Earth video. Public voting closes April 18, 2019.\"\n",
      "-------\n",
      "news_title = \"Curiosity Captured Two Solar Eclipses on Mars\"\n",
      "news_p = \"Observing the Martian moons Phobos and Deimos crossing in front of the Sun helps scientists better understand their orbits.\"\n",
      "-------\n",
      "news_title = \"NASA's Mars Helicopter Completes Flight Tests\"\n",
      "news_p = \"The first helicopter to fly on Mars had its first flight on Earth.\"\n",
      "-------\n",
      "news_title = \"Asteroids, Hydrogen Make Great Recipe for Life on Mars\"\n",
      "news_p = \"Laser blasts in lab tests suggest asteroid bombardment could have provided key ingredients for life on ancient Mars.\"\n",
      "-------\n",
      "news_title = \"Catch NASA's JPL at the Clippers SciFest This Weekend\"\n",
      "news_p = \"Students and families can meet a Mars rover, take a virtual tour through our solar system and explore alien worlds with NASA's Jet Propulsion Laboratory at the Clippers SciFest SoCal.\"\n",
      "-------\n",
      "news_title = \"NASA's Mars 2020 Rover Is Put to the Test\"\n",
      "news_p = \"In January, Mars 2020 engineers and technicians took over JPL's cleanroom to put the mission's cruise, entry capsule, descent stage and rover through their paces.\"\n",
      "-------\n",
      "news_title = \"Opportunity's Parting Shot Was a Beautiful Panorama\"\n",
      "news_p = \"NASA declared the record-setting rover's mission complete on Feb. 13, 2019, but the final image from the rover has just been processed.\"\n",
      "-------\n",
      "news_title = \"Curiosity Resumes Operations After Switching Computers\"\n",
      "news_p = \"Curiosity experienced a computer reset on its Side-A computer on Wednesday, March 6, 2019 (Sol 2,339), that triggered the rover's safe mode.\"\n",
      "-------\n",
      "news_title = \"InSight Lands Praise and a Proclamation from LA County\"\n",
      "news_p = \"Several members of the Mars InSight team accepted a proclamation on behalf of the mission from L.A. County Board of Supervisors on Tuesday, Feb. 19.\"\n",
      "-------\n",
      "news_title = \"InSight Is the Newest Mars Weather Service\"\n",
      "news_p = \"By collecting data around the clock, NASA's lander will provide unique science about the Martian surface.\"\n",
      "-------\n",
      "news_title = \"Six Things to Know About NASA's Opportunity Rover\"\n",
      "news_p = \"Opportunity's mission is complete. Here are highlights from its time on Mars.\"\n",
      "-------\n",
      "news_title = \"NASA's Opportunity Rover Mission on Mars Comes to End\"\n",
      "news_p = \"NASA's Opportunity Mars rover mission is complete after 15 years on Mars. Opportunity's record-breaking exploration laid the groundwork for future missions to the Red Planet.\"\n",
      "-------\n",
      "news_title = \"NASA's InSight Prepares to Take Mars' Temperature\"\n",
      "news_p = \"The lander's second instrument is on the ground. But its ‘mole’ — a burrowing probe — has a long way to go.\"\n",
      "-------\n",
      "news_title = \"NASA to Share Results of Effort to Recover Mars Rover\"\n",
      "news_p = \"NASA will discuss the status of its Mars Exploration Rover Opportunity in a media briefing at 11 a.m. PST (2 p.m. EST) Wednesday, Feb. 13, from the Jet Propulsion Laboratory.\"\n",
      "-------\n",
      "news_title = \"NASA's MAVEN Spacecraft Shrinking its Mars Orbit to Prepare for Mars 2020 Rover\"\n",
      "news_p = \"The MAVEN spacecraft today is starting a campaign to tighten its orbit around Mars to prepare to serve as a data-relay satellite for NASA’s Mars 2020 rover, which launches next year.\"\n",
      "-------\n",
      "news_title = \"360 Video: Curiosity Rover Departs Vera Rubin Ridge\"\n",
      "news_p = \"This panorama from the Mast Camera (Mastcam) on NASA's Curiosity Mars rover was taken on Dec. 19 (Sol 2265). The rover's last drill location on Vera Rubin Ridge is visible, as well as the clay region it will spend the next year exploring.\"\n",
      "-------\n",
      "news_title = \"Beyond Mars, the Mini MarCO Spacecraft Fall Silent\"\n",
      "news_p = \"The first CubeSat mission to deep space may have reached their limit, but they could inspire future NASA missions.\"\n",
      "-------\n",
      "news_title = \"InSight's Seismometer Now Has a Cozy Shelter on Mars\"\n",
      "news_p = \"A domed shield has been set over one of InSight's primary science instruments, protecting it from Mars' wind and temperature changes.\"\n",
      "-------\n",
      "news_title = \"\"Mars Buggy\" Curiosity Measures a Mountain's Gravity\"\n",
      "news_p = \"Smartphone-like sensors on the NASA rover were used to calculate the density of Mount Sharp, offering new clues to its formation.\"\n",
      "-------\n",
      "news_title = \"Curiosity Says Farewell to Mars' Vera Rubin Ridge\"\n",
      "news_p = \"The Mars rover is moving on and has taken its last selfie on the ridge it's explored for more than a year.\"\n",
      "-------\n",
      "news_title = \"Rover Team Beaming New Commands to Opportunity on Mars\"\n",
      "news_p = \"Engineers at JPL have begun transmitting a new set of commands to Opportunity in an attempt to compel the Mars rover to contact Earth.\"\n",
      "-------\n",
      "news_title = \"NASA's Opportunity Rover Logs 15 Years on Mars\"\n",
      "news_p = \"The rover landed in a region of the Red Planet called Meridiani Planum 16 years ago today, on Jan. 24, 2004.\"\n",
      "-------\n",
      "news_title = \"NASA's InSight Places First Instrument on Mars\"\n",
      "news_p = \"In deploying its first instrument onto the surface of Mars, the lander completes a major mission milestone.\"\n",
      "-------\n",
      "news_title = \"InSight Engineers Have Made a Martian Rock Garden\"\n",
      "news_p = \"Reconstructing Mars here on Earth lets them practice setting down the lander's science instruments.\"\n",
      "-------\n",
      "news_title = \"Mars InSight Lander Seen in First Images from Space \"\n",
      "news_p = \"Look closely, and you can make out the lander's solar panels.\"\n",
      "-------\n",
      "news_title = \"NASA's InSight Takes Its First Selfie\"\n",
      "news_p = \"Two new image mosaics detail the lander's deck and \"workspace\" — the surface where it will eventually set down its science instruments.\"\n",
      "-------\n",
      "news_title = \"NASA InSight Lander 'Hears' Martian Winds \"\n",
      "news_p = \"Vibrations picked up by two spacecraft instruments have provided the first sounds of Martian wind.\"\n",
      "-------\n",
      "news_title = \"NASA's Mars InSight Flexes Its Arm\"\n",
      "news_p = \"Now unstowed, the spacecraft's robotic arm will point a camera located on its elbow and take images of the surroundings.\"\n",
      "-------\n",
      "news_title = \"Mars New Home 'a Large Sandbox'\"\n",
      "news_p = \"With InSight safely on the surface of Mars, the mission team is busy learning more about the spacecraft's landing site.\"\n",
      "-------\n",
      "news_title = \"NASA Hears MarCO CubeSats Loud and Clear from Mars \"\n",
      "news_p = \"A pair of tiny, experimental spacecraft fulfilled their mission yesterday, relaying back near-real-time data during InSight's landing.\"\n",
      "-------\n",
      "news_title = \"InSight Is Catching Rays on Mars\"\n",
      "news_p = \"The lander has sent data indicating its solar panels are open and receiving sunlight to power its surface operations.\"\n",
      "-------\n",
      "news_title = \"NASA InSight Lander Arrives on Martian Surface \"\n",
      "news_p = \"The touchdown marks the eighth time NASA has successfully landed a spacecraft on Mars.\"\n"
     ]
    }
   ],
   "source": [
    "title_list = []\n",
    "lede_list = []\n",
    "for result in element_holder:\n",
    "    title = result.find('div', class_='content_title').text\n",
    "    lede = result.find('div', class_='article_teaser_body').text\n",
    "    title_list.append(title)\n",
    "    lede_list.append(lede)\n",
    "    print('-------')\n",
    "    print(f'news_title = \"{title}\"')\n",
    "    print(f'news_p = \"{lede}\"')"
   ]
  },
  {
   "cell_type": "code",
   "execution_count": 9,
   "metadata": {},
   "outputs": [],
   "source": [
    "# jpl featured image url\n",
    "jpl_url = 'https://www.jpl.nasa.gov/spaceimages/?search=&category=Mars'\n",
    "browser.visit(jpl_url)\n",
    "html = browser.html"
   ]
  },
  {
   "cell_type": "code",
   "execution_count": 10,
   "metadata": {},
   "outputs": [],
   "source": [
    "full_image = browser.click_link_by_id('full_image')"
   ]
  },
  {
   "cell_type": "code",
   "execution_count": 12,
   "metadata": {},
   "outputs": [],
   "source": [
    "image_moreifo = browser.find_link_by_partial_text('more info')\n",
    "image_moreifo.click()"
   ]
  },
  {
   "cell_type": "code",
   "execution_count": 13,
   "metadata": {},
   "outputs": [],
   "source": [
    "image = browser.find_by_tag('figure')\n",
    "image.click()"
   ]
  },
  {
   "cell_type": "code",
   "execution_count": 14,
   "metadata": {},
   "outputs": [
    {
     "data": {
      "text/plain": [
       "'https://www.jpl.nasa.gov/spaceimages/images/largesize/PIA09113_hires.jpg'"
      ]
     },
     "execution_count": 14,
     "metadata": {},
     "output_type": "execute_result"
    }
   ],
   "source": [
    "html = browser.html\n",
    "jpl_soup = BeautifulSoup(html, 'html.parser')\n",
    "featured_image_url = jpl_soup.find('img')['src']\n",
    "featured_image_url"
   ]
  },
  {
   "cell_type": "code",
   "execution_count": 15,
   "metadata": {},
   "outputs": [],
   "source": [
    "# twitter\n",
    "twitter_url = 'https://twitter.com/marswxreport?lang=en'\n",
    "browser.visit(twitter_url)\n",
    "html = browser.html\n",
    "twitter_soup = BeautifulSoup(html, 'html.parser')"
   ]
  },
  {
   "cell_type": "code",
   "execution_count": 16,
   "metadata": {},
   "outputs": [
    {
     "data": {
      "text/plain": [
       "'InSight sol 159 (2019-05-08) low -100.3ºC (-148.5ºF) high -21.6ºC (-6.9ºF), winds from the SW at 4.6 m/s (10.4 mph) gusting to 15.3 m/s (34.2 mph), pressure at 7.40 hPapic.twitter.com/rg5UKl8dL'"
      ]
     },
     "execution_count": 16,
     "metadata": {},
     "output_type": "execute_result"
    }
   ],
   "source": [
    "latest_tweet = twitter_soup.select_one('div.content p').text.strip('pic.twitter.com/R6BliV8xpj').replace('\\n', ', ')\n",
    "latest_tweet"
   ]
  },
  {
   "cell_type": "code",
   "execution_count": 17,
   "metadata": {},
   "outputs": [],
   "source": [
    "# Mars facts\n",
    "facts_url = 'https://space-facts.com/mars/'\n",
    "browser.visit(facts_url)\n",
    "html = browser.html\n",
    "mars_facts = pd.read_html(html, header=None, index_col=None)"
   ]
  },
  {
   "cell_type": "code",
   "execution_count": 20,
   "metadata": {
    "scrolled": false
   },
   "outputs": [
    {
     "data": {
      "text/plain": [
       "'<table border=\"1\" class=\"dataframe\">\\n  <tbody>\\n    <tr>\\n      <td>Equatorial Diameter:</td>\\n      <td>6,792 km</td>\\n    </tr>\\n    <tr>\\n      <td>Polar Diameter:</td>\\n      <td>6,752 km</td>\\n    </tr>\\n    <tr>\\n      <td>Mass:</td>\\n      <td>6.42 x 10^23 kg (10.7% Earth)</td>\\n    </tr>\\n    <tr>\\n      <td>Moons:</td>\\n      <td>2 (Phobos &amp; Deimos)</td>\\n    </tr>\\n    <tr>\\n      <td>Orbit Distance:</td>\\n      <td>227,943,824 km (1.52 AU)</td>\\n    </tr>\\n    <tr>\\n      <td>Orbit Period:</td>\\n      <td>687 days (1.9 years)</td>\\n    </tr>\\n    <tr>\\n      <td>Surface Temperature:</td>\\n      <td>-153 to 20 °C</td>\\n    </tr>\\n    <tr>\\n      <td>First Record:</td>\\n      <td>2nd millennium BC</td>\\n    </tr>\\n    <tr>\\n      <td>Recorded By:</td>\\n      <td>Egyptian astronomers</td>\\n    </tr>\\n  </tbody>\\n</table>'"
      ]
     },
     "execution_count": 20,
     "metadata": {},
     "output_type": "execute_result"
    }
   ],
   "source": [
    "mars_facts = mars_facts[0]\n",
    "mars_facts.to_html(columns=None, col_space=None, header=False, index=False)"
   ]
  },
  {
   "cell_type": "code",
   "execution_count": 24,
   "metadata": {},
   "outputs": [
    {
     "ename": "KeyboardInterrupt",
     "evalue": "",
     "output_type": "error",
     "traceback": [
      "\u001b[1;31m---------------------------------------------------------------------------\u001b[0m",
      "\u001b[1;31mTypeError\u001b[0m                                 Traceback (most recent call last)",
      "\u001b[1;32m~\\AppData\\Local\\Continuum\\anaconda3\\lib\\site-packages\\urllib3\\connectionpool.py\u001b[0m in \u001b[0;36m_make_request\u001b[1;34m(self, conn, method, url, timeout, chunked, **httplib_request_kw)\u001b[0m\n\u001b[0;32m    376\u001b[0m             \u001b[1;32mtry\u001b[0m\u001b[1;33m:\u001b[0m  \u001b[1;31m# Python 2.7, use buffering of HTTP responses\u001b[0m\u001b[1;33m\u001b[0m\u001b[1;33m\u001b[0m\u001b[0m\n\u001b[1;32m--> 377\u001b[1;33m                 \u001b[0mhttplib_response\u001b[0m \u001b[1;33m=\u001b[0m \u001b[0mconn\u001b[0m\u001b[1;33m.\u001b[0m\u001b[0mgetresponse\u001b[0m\u001b[1;33m(\u001b[0m\u001b[0mbuffering\u001b[0m\u001b[1;33m=\u001b[0m\u001b[1;32mTrue\u001b[0m\u001b[1;33m)\u001b[0m\u001b[1;33m\u001b[0m\u001b[1;33m\u001b[0m\u001b[0m\n\u001b[0m\u001b[0;32m    378\u001b[0m             \u001b[1;32mexcept\u001b[0m \u001b[0mTypeError\u001b[0m\u001b[1;33m:\u001b[0m  \u001b[1;31m# Python 3\u001b[0m\u001b[1;33m\u001b[0m\u001b[1;33m\u001b[0m\u001b[0m\n",
      "\u001b[1;31mTypeError\u001b[0m: getresponse() got an unexpected keyword argument 'buffering'",
      "\nDuring handling of the above exception, another exception occurred:\n",
      "\u001b[1;31mKeyboardInterrupt\u001b[0m                         Traceback (most recent call last)",
      "\u001b[1;32m<ipython-input-24-9fefa9440a8b>\u001b[0m in \u001b[0;36m<module>\u001b[1;34m\u001b[0m\n\u001b[0;32m      1\u001b[0m \u001b[1;31m# Mars Hemispheres\u001b[0m\u001b[1;33m\u001b[0m\u001b[1;33m\u001b[0m\u001b[1;33m\u001b[0m\u001b[0m\n\u001b[0;32m      2\u001b[0m \u001b[0mhem_url\u001b[0m \u001b[1;33m=\u001b[0m \u001b[1;34m'https://astrogeology.usgs.gov/search/results?q=hemisphere+enhanced&k1=target&v1=Mars'\u001b[0m\u001b[1;33m\u001b[0m\u001b[1;33m\u001b[0m\u001b[0m\n\u001b[1;32m----> 3\u001b[1;33m \u001b[0mbrowser\u001b[0m\u001b[1;33m.\u001b[0m\u001b[0mvisit\u001b[0m\u001b[1;33m(\u001b[0m\u001b[0mhem_url\u001b[0m\u001b[1;33m)\u001b[0m\u001b[1;33m\u001b[0m\u001b[1;33m\u001b[0m\u001b[0m\n\u001b[0m\u001b[0;32m      4\u001b[0m \u001b[0mhtml\u001b[0m \u001b[1;33m=\u001b[0m \u001b[0mbrowser\u001b[0m\u001b[1;33m.\u001b[0m\u001b[0mhtml\u001b[0m\u001b[1;33m\u001b[0m\u001b[1;33m\u001b[0m\u001b[0m\n\u001b[0;32m      5\u001b[0m \u001b[0mhem_soup\u001b[0m \u001b[1;33m=\u001b[0m \u001b[0mBeautifulSoup\u001b[0m\u001b[1;33m(\u001b[0m\u001b[0mhtml\u001b[0m\u001b[1;33m,\u001b[0m \u001b[1;34m'html.parser'\u001b[0m\u001b[1;33m)\u001b[0m\u001b[1;33m\u001b[0m\u001b[1;33m\u001b[0m\u001b[0m\n",
      "\u001b[1;32m~\\AppData\\Local\\Continuum\\anaconda3\\lib\\site-packages\\splinter\\driver\\webdriver\\__init__.py\u001b[0m in \u001b[0;36mvisit\u001b[1;34m(self, url)\u001b[0m\n\u001b[0;32m    194\u001b[0m \u001b[1;33m\u001b[0m\u001b[0m\n\u001b[0;32m    195\u001b[0m     \u001b[1;32mdef\u001b[0m \u001b[0mvisit\u001b[0m\u001b[1;33m(\u001b[0m\u001b[0mself\u001b[0m\u001b[1;33m,\u001b[0m \u001b[0murl\u001b[0m\u001b[1;33m)\u001b[0m\u001b[1;33m:\u001b[0m\u001b[1;33m\u001b[0m\u001b[1;33m\u001b[0m\u001b[0m\n\u001b[1;32m--> 196\u001b[1;33m         \u001b[0mself\u001b[0m\u001b[1;33m.\u001b[0m\u001b[0mdriver\u001b[0m\u001b[1;33m.\u001b[0m\u001b[0mget\u001b[0m\u001b[1;33m(\u001b[0m\u001b[0murl\u001b[0m\u001b[1;33m)\u001b[0m\u001b[1;33m\u001b[0m\u001b[1;33m\u001b[0m\u001b[0m\n\u001b[0m\u001b[0;32m    197\u001b[0m \u001b[1;33m\u001b[0m\u001b[0m\n\u001b[0;32m    198\u001b[0m     \u001b[1;32mdef\u001b[0m \u001b[0mback\u001b[0m\u001b[1;33m(\u001b[0m\u001b[0mself\u001b[0m\u001b[1;33m)\u001b[0m\u001b[1;33m:\u001b[0m\u001b[1;33m\u001b[0m\u001b[1;33m\u001b[0m\u001b[0m\n",
      "\u001b[1;32m~\\AppData\\Local\\Continuum\\anaconda3\\lib\\site-packages\\selenium\\webdriver\\remote\\webdriver.py\u001b[0m in \u001b[0;36mget\u001b[1;34m(self, url)\u001b[0m\n\u001b[0;32m    331\u001b[0m         \u001b[0mLoads\u001b[0m \u001b[0ma\u001b[0m \u001b[0mweb\u001b[0m \u001b[0mpage\u001b[0m \u001b[1;32min\u001b[0m \u001b[0mthe\u001b[0m \u001b[0mcurrent\u001b[0m \u001b[0mbrowser\u001b[0m \u001b[0msession\u001b[0m\u001b[1;33m.\u001b[0m\u001b[1;33m\u001b[0m\u001b[1;33m\u001b[0m\u001b[0m\n\u001b[0;32m    332\u001b[0m         \"\"\"\n\u001b[1;32m--> 333\u001b[1;33m         \u001b[0mself\u001b[0m\u001b[1;33m.\u001b[0m\u001b[0mexecute\u001b[0m\u001b[1;33m(\u001b[0m\u001b[0mCommand\u001b[0m\u001b[1;33m.\u001b[0m\u001b[0mGET\u001b[0m\u001b[1;33m,\u001b[0m \u001b[1;33m{\u001b[0m\u001b[1;34m'url'\u001b[0m\u001b[1;33m:\u001b[0m \u001b[0murl\u001b[0m\u001b[1;33m}\u001b[0m\u001b[1;33m)\u001b[0m\u001b[1;33m\u001b[0m\u001b[1;33m\u001b[0m\u001b[0m\n\u001b[0m\u001b[0;32m    334\u001b[0m \u001b[1;33m\u001b[0m\u001b[0m\n\u001b[0;32m    335\u001b[0m     \u001b[1;33m@\u001b[0m\u001b[0mproperty\u001b[0m\u001b[1;33m\u001b[0m\u001b[1;33m\u001b[0m\u001b[0m\n",
      "\u001b[1;32m~\\AppData\\Local\\Continuum\\anaconda3\\lib\\site-packages\\selenium\\webdriver\\remote\\webdriver.py\u001b[0m in \u001b[0;36mexecute\u001b[1;34m(self, driver_command, params)\u001b[0m\n\u001b[0;32m    317\u001b[0m \u001b[1;33m\u001b[0m\u001b[0m\n\u001b[0;32m    318\u001b[0m         \u001b[0mparams\u001b[0m \u001b[1;33m=\u001b[0m \u001b[0mself\u001b[0m\u001b[1;33m.\u001b[0m\u001b[0m_wrap_value\u001b[0m\u001b[1;33m(\u001b[0m\u001b[0mparams\u001b[0m\u001b[1;33m)\u001b[0m\u001b[1;33m\u001b[0m\u001b[1;33m\u001b[0m\u001b[0m\n\u001b[1;32m--> 319\u001b[1;33m         \u001b[0mresponse\u001b[0m \u001b[1;33m=\u001b[0m \u001b[0mself\u001b[0m\u001b[1;33m.\u001b[0m\u001b[0mcommand_executor\u001b[0m\u001b[1;33m.\u001b[0m\u001b[0mexecute\u001b[0m\u001b[1;33m(\u001b[0m\u001b[0mdriver_command\u001b[0m\u001b[1;33m,\u001b[0m \u001b[0mparams\u001b[0m\u001b[1;33m)\u001b[0m\u001b[1;33m\u001b[0m\u001b[1;33m\u001b[0m\u001b[0m\n\u001b[0m\u001b[0;32m    320\u001b[0m         \u001b[1;32mif\u001b[0m \u001b[0mresponse\u001b[0m\u001b[1;33m:\u001b[0m\u001b[1;33m\u001b[0m\u001b[1;33m\u001b[0m\u001b[0m\n\u001b[0;32m    321\u001b[0m             \u001b[0mself\u001b[0m\u001b[1;33m.\u001b[0m\u001b[0merror_handler\u001b[0m\u001b[1;33m.\u001b[0m\u001b[0mcheck_response\u001b[0m\u001b[1;33m(\u001b[0m\u001b[0mresponse\u001b[0m\u001b[1;33m)\u001b[0m\u001b[1;33m\u001b[0m\u001b[1;33m\u001b[0m\u001b[0m\n",
      "\u001b[1;32m~\\AppData\\Local\\Continuum\\anaconda3\\lib\\site-packages\\selenium\\webdriver\\remote\\remote_connection.py\u001b[0m in \u001b[0;36mexecute\u001b[1;34m(self, command, params)\u001b[0m\n\u001b[0;32m    372\u001b[0m         \u001b[0mdata\u001b[0m \u001b[1;33m=\u001b[0m \u001b[0mutils\u001b[0m\u001b[1;33m.\u001b[0m\u001b[0mdump_json\u001b[0m\u001b[1;33m(\u001b[0m\u001b[0mparams\u001b[0m\u001b[1;33m)\u001b[0m\u001b[1;33m\u001b[0m\u001b[1;33m\u001b[0m\u001b[0m\n\u001b[0;32m    373\u001b[0m         \u001b[0murl\u001b[0m \u001b[1;33m=\u001b[0m \u001b[1;34m'%s%s'\u001b[0m \u001b[1;33m%\u001b[0m \u001b[1;33m(\u001b[0m\u001b[0mself\u001b[0m\u001b[1;33m.\u001b[0m\u001b[0m_url\u001b[0m\u001b[1;33m,\u001b[0m \u001b[0mpath\u001b[0m\u001b[1;33m)\u001b[0m\u001b[1;33m\u001b[0m\u001b[1;33m\u001b[0m\u001b[0m\n\u001b[1;32m--> 374\u001b[1;33m         \u001b[1;32mreturn\u001b[0m \u001b[0mself\u001b[0m\u001b[1;33m.\u001b[0m\u001b[0m_request\u001b[0m\u001b[1;33m(\u001b[0m\u001b[0mcommand_info\u001b[0m\u001b[1;33m[\u001b[0m\u001b[1;36m0\u001b[0m\u001b[1;33m]\u001b[0m\u001b[1;33m,\u001b[0m \u001b[0murl\u001b[0m\u001b[1;33m,\u001b[0m \u001b[0mbody\u001b[0m\u001b[1;33m=\u001b[0m\u001b[0mdata\u001b[0m\u001b[1;33m)\u001b[0m\u001b[1;33m\u001b[0m\u001b[1;33m\u001b[0m\u001b[0m\n\u001b[0m\u001b[0;32m    375\u001b[0m \u001b[1;33m\u001b[0m\u001b[0m\n\u001b[0;32m    376\u001b[0m     \u001b[1;32mdef\u001b[0m \u001b[0m_request\u001b[0m\u001b[1;33m(\u001b[0m\u001b[0mself\u001b[0m\u001b[1;33m,\u001b[0m \u001b[0mmethod\u001b[0m\u001b[1;33m,\u001b[0m \u001b[0murl\u001b[0m\u001b[1;33m,\u001b[0m \u001b[0mbody\u001b[0m\u001b[1;33m=\u001b[0m\u001b[1;32mNone\u001b[0m\u001b[1;33m)\u001b[0m\u001b[1;33m:\u001b[0m\u001b[1;33m\u001b[0m\u001b[1;33m\u001b[0m\u001b[0m\n",
      "\u001b[1;32m~\\AppData\\Local\\Continuum\\anaconda3\\lib\\site-packages\\selenium\\webdriver\\remote\\remote_connection.py\u001b[0m in \u001b[0;36m_request\u001b[1;34m(self, method, url, body)\u001b[0m\n\u001b[0;32m    395\u001b[0m \u001b[1;33m\u001b[0m\u001b[0m\n\u001b[0;32m    396\u001b[0m         \u001b[1;32mif\u001b[0m \u001b[0mself\u001b[0m\u001b[1;33m.\u001b[0m\u001b[0mkeep_alive\u001b[0m\u001b[1;33m:\u001b[0m\u001b[1;33m\u001b[0m\u001b[1;33m\u001b[0m\u001b[0m\n\u001b[1;32m--> 397\u001b[1;33m             \u001b[0mresp\u001b[0m \u001b[1;33m=\u001b[0m \u001b[0mself\u001b[0m\u001b[1;33m.\u001b[0m\u001b[0m_conn\u001b[0m\u001b[1;33m.\u001b[0m\u001b[0mrequest\u001b[0m\u001b[1;33m(\u001b[0m\u001b[0mmethod\u001b[0m\u001b[1;33m,\u001b[0m \u001b[0murl\u001b[0m\u001b[1;33m,\u001b[0m \u001b[0mbody\u001b[0m\u001b[1;33m=\u001b[0m\u001b[0mbody\u001b[0m\u001b[1;33m,\u001b[0m \u001b[0mheaders\u001b[0m\u001b[1;33m=\u001b[0m\u001b[0mheaders\u001b[0m\u001b[1;33m)\u001b[0m\u001b[1;33m\u001b[0m\u001b[1;33m\u001b[0m\u001b[0m\n\u001b[0m\u001b[0;32m    398\u001b[0m \u001b[1;33m\u001b[0m\u001b[0m\n\u001b[0;32m    399\u001b[0m             \u001b[0mstatuscode\u001b[0m \u001b[1;33m=\u001b[0m \u001b[0mresp\u001b[0m\u001b[1;33m.\u001b[0m\u001b[0mstatus\u001b[0m\u001b[1;33m\u001b[0m\u001b[1;33m\u001b[0m\u001b[0m\n",
      "\u001b[1;32m~\\AppData\\Local\\Continuum\\anaconda3\\lib\\site-packages\\urllib3\\request.py\u001b[0m in \u001b[0;36mrequest\u001b[1;34m(self, method, url, fields, headers, **urlopen_kw)\u001b[0m\n\u001b[0;32m     70\u001b[0m             return self.request_encode_body(method, url, fields=fields,\n\u001b[0;32m     71\u001b[0m                                             \u001b[0mheaders\u001b[0m\u001b[1;33m=\u001b[0m\u001b[0mheaders\u001b[0m\u001b[1;33m,\u001b[0m\u001b[1;33m\u001b[0m\u001b[1;33m\u001b[0m\u001b[0m\n\u001b[1;32m---> 72\u001b[1;33m                                             **urlopen_kw)\n\u001b[0m\u001b[0;32m     73\u001b[0m \u001b[1;33m\u001b[0m\u001b[0m\n\u001b[0;32m     74\u001b[0m     def request_encode_url(self, method, url, fields=None, headers=None,\n",
      "\u001b[1;32m~\\AppData\\Local\\Continuum\\anaconda3\\lib\\site-packages\\urllib3\\request.py\u001b[0m in \u001b[0;36mrequest_encode_body\u001b[1;34m(self, method, url, fields, headers, encode_multipart, multipart_boundary, **urlopen_kw)\u001b[0m\n\u001b[0;32m    148\u001b[0m         \u001b[0mextra_kw\u001b[0m\u001b[1;33m.\u001b[0m\u001b[0mupdate\u001b[0m\u001b[1;33m(\u001b[0m\u001b[0murlopen_kw\u001b[0m\u001b[1;33m)\u001b[0m\u001b[1;33m\u001b[0m\u001b[1;33m\u001b[0m\u001b[0m\n\u001b[0;32m    149\u001b[0m \u001b[1;33m\u001b[0m\u001b[0m\n\u001b[1;32m--> 150\u001b[1;33m         \u001b[1;32mreturn\u001b[0m \u001b[0mself\u001b[0m\u001b[1;33m.\u001b[0m\u001b[0murlopen\u001b[0m\u001b[1;33m(\u001b[0m\u001b[0mmethod\u001b[0m\u001b[1;33m,\u001b[0m \u001b[0murl\u001b[0m\u001b[1;33m,\u001b[0m \u001b[1;33m**\u001b[0m\u001b[0mextra_kw\u001b[0m\u001b[1;33m)\u001b[0m\u001b[1;33m\u001b[0m\u001b[1;33m\u001b[0m\u001b[0m\n\u001b[0m",
      "\u001b[1;32m~\\AppData\\Local\\Continuum\\anaconda3\\lib\\site-packages\\urllib3\\poolmanager.py\u001b[0m in \u001b[0;36murlopen\u001b[1;34m(self, method, url, redirect, **kw)\u001b[0m\n\u001b[0;32m    321\u001b[0m             \u001b[0mresponse\u001b[0m \u001b[1;33m=\u001b[0m \u001b[0mconn\u001b[0m\u001b[1;33m.\u001b[0m\u001b[0murlopen\u001b[0m\u001b[1;33m(\u001b[0m\u001b[0mmethod\u001b[0m\u001b[1;33m,\u001b[0m \u001b[0murl\u001b[0m\u001b[1;33m,\u001b[0m \u001b[1;33m**\u001b[0m\u001b[0mkw\u001b[0m\u001b[1;33m)\u001b[0m\u001b[1;33m\u001b[0m\u001b[1;33m\u001b[0m\u001b[0m\n\u001b[0;32m    322\u001b[0m         \u001b[1;32melse\u001b[0m\u001b[1;33m:\u001b[0m\u001b[1;33m\u001b[0m\u001b[1;33m\u001b[0m\u001b[0m\n\u001b[1;32m--> 323\u001b[1;33m             \u001b[0mresponse\u001b[0m \u001b[1;33m=\u001b[0m \u001b[0mconn\u001b[0m\u001b[1;33m.\u001b[0m\u001b[0murlopen\u001b[0m\u001b[1;33m(\u001b[0m\u001b[0mmethod\u001b[0m\u001b[1;33m,\u001b[0m \u001b[0mu\u001b[0m\u001b[1;33m.\u001b[0m\u001b[0mrequest_uri\u001b[0m\u001b[1;33m,\u001b[0m \u001b[1;33m**\u001b[0m\u001b[0mkw\u001b[0m\u001b[1;33m)\u001b[0m\u001b[1;33m\u001b[0m\u001b[1;33m\u001b[0m\u001b[0m\n\u001b[0m\u001b[0;32m    324\u001b[0m \u001b[1;33m\u001b[0m\u001b[0m\n\u001b[0;32m    325\u001b[0m         \u001b[0mredirect_location\u001b[0m \u001b[1;33m=\u001b[0m \u001b[0mredirect\u001b[0m \u001b[1;32mand\u001b[0m \u001b[0mresponse\u001b[0m\u001b[1;33m.\u001b[0m\u001b[0mget_redirect_location\u001b[0m\u001b[1;33m(\u001b[0m\u001b[1;33m)\u001b[0m\u001b[1;33m\u001b[0m\u001b[1;33m\u001b[0m\u001b[0m\n",
      "\u001b[1;32m~\\AppData\\Local\\Continuum\\anaconda3\\lib\\site-packages\\urllib3\\connectionpool.py\u001b[0m in \u001b[0;36murlopen\u001b[1;34m(self, method, url, body, headers, retries, redirect, assert_same_host, timeout, pool_timeout, release_conn, chunked, body_pos, **response_kw)\u001b[0m\n\u001b[0;32m    598\u001b[0m                                                   \u001b[0mtimeout\u001b[0m\u001b[1;33m=\u001b[0m\u001b[0mtimeout_obj\u001b[0m\u001b[1;33m,\u001b[0m\u001b[1;33m\u001b[0m\u001b[1;33m\u001b[0m\u001b[0m\n\u001b[0;32m    599\u001b[0m                                                   \u001b[0mbody\u001b[0m\u001b[1;33m=\u001b[0m\u001b[0mbody\u001b[0m\u001b[1;33m,\u001b[0m \u001b[0mheaders\u001b[0m\u001b[1;33m=\u001b[0m\u001b[0mheaders\u001b[0m\u001b[1;33m,\u001b[0m\u001b[1;33m\u001b[0m\u001b[1;33m\u001b[0m\u001b[0m\n\u001b[1;32m--> 600\u001b[1;33m                                                   chunked=chunked)\n\u001b[0m\u001b[0;32m    601\u001b[0m \u001b[1;33m\u001b[0m\u001b[0m\n\u001b[0;32m    602\u001b[0m             \u001b[1;31m# If we're going to release the connection in ``finally:``, then\u001b[0m\u001b[1;33m\u001b[0m\u001b[1;33m\u001b[0m\u001b[1;33m\u001b[0m\u001b[0m\n",
      "\u001b[1;32m~\\AppData\\Local\\Continuum\\anaconda3\\lib\\site-packages\\urllib3\\connectionpool.py\u001b[0m in \u001b[0;36m_make_request\u001b[1;34m(self, conn, method, url, timeout, chunked, **httplib_request_kw)\u001b[0m\n\u001b[0;32m    378\u001b[0m             \u001b[1;32mexcept\u001b[0m \u001b[0mTypeError\u001b[0m\u001b[1;33m:\u001b[0m  \u001b[1;31m# Python 3\u001b[0m\u001b[1;33m\u001b[0m\u001b[1;33m\u001b[0m\u001b[0m\n\u001b[0;32m    379\u001b[0m                 \u001b[1;32mtry\u001b[0m\u001b[1;33m:\u001b[0m\u001b[1;33m\u001b[0m\u001b[1;33m\u001b[0m\u001b[0m\n\u001b[1;32m--> 380\u001b[1;33m                     \u001b[0mhttplib_response\u001b[0m \u001b[1;33m=\u001b[0m \u001b[0mconn\u001b[0m\u001b[1;33m.\u001b[0m\u001b[0mgetresponse\u001b[0m\u001b[1;33m(\u001b[0m\u001b[1;33m)\u001b[0m\u001b[1;33m\u001b[0m\u001b[1;33m\u001b[0m\u001b[0m\n\u001b[0m\u001b[0;32m    381\u001b[0m                 \u001b[1;32mexcept\u001b[0m \u001b[0mException\u001b[0m \u001b[1;32mas\u001b[0m \u001b[0me\u001b[0m\u001b[1;33m:\u001b[0m\u001b[1;33m\u001b[0m\u001b[1;33m\u001b[0m\u001b[0m\n\u001b[0;32m    382\u001b[0m                     \u001b[1;31m# Remove the TypeError from the exception chain in Python 3;\u001b[0m\u001b[1;33m\u001b[0m\u001b[1;33m\u001b[0m\u001b[1;33m\u001b[0m\u001b[0m\n",
      "\u001b[1;32m~\\AppData\\Local\\Continuum\\anaconda3\\lib\\http\\client.py\u001b[0m in \u001b[0;36mgetresponse\u001b[1;34m(self)\u001b[0m\n\u001b[0;32m   1319\u001b[0m         \u001b[1;32mtry\u001b[0m\u001b[1;33m:\u001b[0m\u001b[1;33m\u001b[0m\u001b[1;33m\u001b[0m\u001b[0m\n\u001b[0;32m   1320\u001b[0m             \u001b[1;32mtry\u001b[0m\u001b[1;33m:\u001b[0m\u001b[1;33m\u001b[0m\u001b[1;33m\u001b[0m\u001b[0m\n\u001b[1;32m-> 1321\u001b[1;33m                 \u001b[0mresponse\u001b[0m\u001b[1;33m.\u001b[0m\u001b[0mbegin\u001b[0m\u001b[1;33m(\u001b[0m\u001b[1;33m)\u001b[0m\u001b[1;33m\u001b[0m\u001b[1;33m\u001b[0m\u001b[0m\n\u001b[0m\u001b[0;32m   1322\u001b[0m             \u001b[1;32mexcept\u001b[0m \u001b[0mConnectionError\u001b[0m\u001b[1;33m:\u001b[0m\u001b[1;33m\u001b[0m\u001b[1;33m\u001b[0m\u001b[0m\n\u001b[0;32m   1323\u001b[0m                 \u001b[0mself\u001b[0m\u001b[1;33m.\u001b[0m\u001b[0mclose\u001b[0m\u001b[1;33m(\u001b[0m\u001b[1;33m)\u001b[0m\u001b[1;33m\u001b[0m\u001b[1;33m\u001b[0m\u001b[0m\n",
      "\u001b[1;32m~\\AppData\\Local\\Continuum\\anaconda3\\lib\\http\\client.py\u001b[0m in \u001b[0;36mbegin\u001b[1;34m(self)\u001b[0m\n\u001b[0;32m    294\u001b[0m         \u001b[1;31m# read until we get a non-100 response\u001b[0m\u001b[1;33m\u001b[0m\u001b[1;33m\u001b[0m\u001b[1;33m\u001b[0m\u001b[0m\n\u001b[0;32m    295\u001b[0m         \u001b[1;32mwhile\u001b[0m \u001b[1;32mTrue\u001b[0m\u001b[1;33m:\u001b[0m\u001b[1;33m\u001b[0m\u001b[1;33m\u001b[0m\u001b[0m\n\u001b[1;32m--> 296\u001b[1;33m             \u001b[0mversion\u001b[0m\u001b[1;33m,\u001b[0m \u001b[0mstatus\u001b[0m\u001b[1;33m,\u001b[0m \u001b[0mreason\u001b[0m \u001b[1;33m=\u001b[0m \u001b[0mself\u001b[0m\u001b[1;33m.\u001b[0m\u001b[0m_read_status\u001b[0m\u001b[1;33m(\u001b[0m\u001b[1;33m)\u001b[0m\u001b[1;33m\u001b[0m\u001b[1;33m\u001b[0m\u001b[0m\n\u001b[0m\u001b[0;32m    297\u001b[0m             \u001b[1;32mif\u001b[0m \u001b[0mstatus\u001b[0m \u001b[1;33m!=\u001b[0m \u001b[0mCONTINUE\u001b[0m\u001b[1;33m:\u001b[0m\u001b[1;33m\u001b[0m\u001b[1;33m\u001b[0m\u001b[0m\n\u001b[0;32m    298\u001b[0m                 \u001b[1;32mbreak\u001b[0m\u001b[1;33m\u001b[0m\u001b[1;33m\u001b[0m\u001b[0m\n",
      "\u001b[1;32m~\\AppData\\Local\\Continuum\\anaconda3\\lib\\http\\client.py\u001b[0m in \u001b[0;36m_read_status\u001b[1;34m(self)\u001b[0m\n\u001b[0;32m    255\u001b[0m \u001b[1;33m\u001b[0m\u001b[0m\n\u001b[0;32m    256\u001b[0m     \u001b[1;32mdef\u001b[0m \u001b[0m_read_status\u001b[0m\u001b[1;33m(\u001b[0m\u001b[0mself\u001b[0m\u001b[1;33m)\u001b[0m\u001b[1;33m:\u001b[0m\u001b[1;33m\u001b[0m\u001b[1;33m\u001b[0m\u001b[0m\n\u001b[1;32m--> 257\u001b[1;33m         \u001b[0mline\u001b[0m \u001b[1;33m=\u001b[0m \u001b[0mstr\u001b[0m\u001b[1;33m(\u001b[0m\u001b[0mself\u001b[0m\u001b[1;33m.\u001b[0m\u001b[0mfp\u001b[0m\u001b[1;33m.\u001b[0m\u001b[0mreadline\u001b[0m\u001b[1;33m(\u001b[0m\u001b[0m_MAXLINE\u001b[0m \u001b[1;33m+\u001b[0m \u001b[1;36m1\u001b[0m\u001b[1;33m)\u001b[0m\u001b[1;33m,\u001b[0m \u001b[1;34m\"iso-8859-1\"\u001b[0m\u001b[1;33m)\u001b[0m\u001b[1;33m\u001b[0m\u001b[1;33m\u001b[0m\u001b[0m\n\u001b[0m\u001b[0;32m    258\u001b[0m         \u001b[1;32mif\u001b[0m \u001b[0mlen\u001b[0m\u001b[1;33m(\u001b[0m\u001b[0mline\u001b[0m\u001b[1;33m)\u001b[0m \u001b[1;33m>\u001b[0m \u001b[0m_MAXLINE\u001b[0m\u001b[1;33m:\u001b[0m\u001b[1;33m\u001b[0m\u001b[1;33m\u001b[0m\u001b[0m\n\u001b[0;32m    259\u001b[0m             \u001b[1;32mraise\u001b[0m \u001b[0mLineTooLong\u001b[0m\u001b[1;33m(\u001b[0m\u001b[1;34m\"status line\"\u001b[0m\u001b[1;33m)\u001b[0m\u001b[1;33m\u001b[0m\u001b[1;33m\u001b[0m\u001b[0m\n",
      "\u001b[1;32m~\\AppData\\Local\\Continuum\\anaconda3\\lib\\socket.py\u001b[0m in \u001b[0;36mreadinto\u001b[1;34m(self, b)\u001b[0m\n\u001b[0;32m    587\u001b[0m         \u001b[1;32mwhile\u001b[0m \u001b[1;32mTrue\u001b[0m\u001b[1;33m:\u001b[0m\u001b[1;33m\u001b[0m\u001b[1;33m\u001b[0m\u001b[0m\n\u001b[0;32m    588\u001b[0m             \u001b[1;32mtry\u001b[0m\u001b[1;33m:\u001b[0m\u001b[1;33m\u001b[0m\u001b[1;33m\u001b[0m\u001b[0m\n\u001b[1;32m--> 589\u001b[1;33m                 \u001b[1;32mreturn\u001b[0m \u001b[0mself\u001b[0m\u001b[1;33m.\u001b[0m\u001b[0m_sock\u001b[0m\u001b[1;33m.\u001b[0m\u001b[0mrecv_into\u001b[0m\u001b[1;33m(\u001b[0m\u001b[0mb\u001b[0m\u001b[1;33m)\u001b[0m\u001b[1;33m\u001b[0m\u001b[1;33m\u001b[0m\u001b[0m\n\u001b[0m\u001b[0;32m    590\u001b[0m             \u001b[1;32mexcept\u001b[0m \u001b[0mtimeout\u001b[0m\u001b[1;33m:\u001b[0m\u001b[1;33m\u001b[0m\u001b[1;33m\u001b[0m\u001b[0m\n\u001b[0;32m    591\u001b[0m                 \u001b[0mself\u001b[0m\u001b[1;33m.\u001b[0m\u001b[0m_timeout_occurred\u001b[0m \u001b[1;33m=\u001b[0m \u001b[1;32mTrue\u001b[0m\u001b[1;33m\u001b[0m\u001b[1;33m\u001b[0m\u001b[0m\n",
      "\u001b[1;31mKeyboardInterrupt\u001b[0m: "
     ]
    }
   ],
   "source": [
    "# Mars Hemispheres\n",
    "hem_url = 'https://astrogeology.usgs.gov/search/results?q=hemisphere+enhanced&k1=target&v1=Mars'\n",
    "browser.visit(hem_url)\n",
    "html = browser.html\n",
    "hem_soup = BeautifulSoup(html, 'html.parser')"
   ]
  },
  {
   "cell_type": "code",
   "execution_count": null,
   "metadata": {},
   "outputs": [],
   "source": [
    "hem_titles = hem_soup.find_all('h3')\n",
    "hem_titles = [title.text for title in hem_titles]"
   ]
  },
  {
   "cell_type": "code",
   "execution_count": null,
   "metadata": {},
   "outputs": [],
   "source": [
    "hem_image_urls = []\n",
    "for title in hem_titles:\n",
    "    hem_url = 'https://astrogeology.usgs.gov/search/results?q=hemisphere+enhanced&k1=target&v1=Mars'\n",
    "    browser.visit(hem_url)\n",
    "    browser.click_link_by_partial_text(title)\n",
    "    html = browser.html\n",
    "    hem_soup = BeautifulSoup(html, 'html.parser')\n",
    "    hem_image_url = hem_soup.find('a', target='_blank')['href']\n",
    "    hem_image_urls.append(hem_image_url)"
   ]
  },
  {
   "cell_type": "code",
   "execution_count": null,
   "metadata": {},
   "outputs": [],
   "source": [
    "hem_image_urls"
   ]
  },
  {
   "cell_type": "code",
   "execution_count": null,
   "metadata": {},
   "outputs": [],
   "source": [
    "hemisphere_image_urls = [\n",
    "    {\"title\": hem_titles[0], \"img_url\": hem_image_urls[0]},\n",
    "    {\"title\": hem_titles[1], \"img_url\": hem_image_urls[1]},\n",
    "    {\"title\": hem_titles[2], \"img_url\": hem_image_urls[2]},\n",
    "    {\"title\": hem_titles[3], \"img_url\": hem_image_urls[3]},\n",
    "]"
   ]
  },
  {
   "cell_type": "code",
   "execution_count": null,
   "metadata": {},
   "outputs": [],
   "source": [
    "hemisphere_image_urls"
   ]
  },
  {
   "cell_type": "code",
   "execution_count": null,
   "metadata": {},
   "outputs": [],
   "source": [
    "mars_data = [\n",
    "    {\"NASA Mars News Title\": title_list, \"NASA Mars News title\": lede_list},\n",
    "    {\"JPL Featured Image URL\": featured_image_url},\n",
    "    {\"Mars Weather Tweet\": latest_tweet},\n",
    "    {\"Mars Space Facts\": mars_facts},\n",
    "    {\"Mars Hemispheres\": hemisphere_image_urls},\n",
    "]"
   ]
  },
  {
   "cell_type": "code",
   "execution_count": null,
   "metadata": {
    "scrolled": true
   },
   "outputs": [],
   "source": [
    "mars_data"
   ]
  },
  {
   "cell_type": "code",
   "execution_count": null,
   "metadata": {},
   "outputs": [],
   "source": []
  },
  {
   "cell_type": "code",
   "execution_count": null,
   "metadata": {},
   "outputs": [],
   "source": []
  },
  {
   "cell_type": "code",
   "execution_count": null,
   "metadata": {},
   "outputs": [],
   "source": []
  },
  {
   "cell_type": "code",
   "execution_count": null,
   "metadata": {},
   "outputs": [],
   "source": []
  },
  {
   "cell_type": "code",
   "execution_count": null,
   "metadata": {},
   "outputs": [],
   "source": []
  },
  {
   "cell_type": "code",
   "execution_count": null,
   "metadata": {},
   "outputs": [],
   "source": []
  },
  {
   "cell_type": "code",
   "execution_count": null,
   "metadata": {},
   "outputs": [],
   "source": []
  },
  {
   "cell_type": "code",
   "execution_count": null,
   "metadata": {},
   "outputs": [],
   "source": []
  },
  {
   "cell_type": "code",
   "execution_count": null,
   "metadata": {},
   "outputs": [],
   "source": []
  },
  {
   "cell_type": "code",
   "execution_count": null,
   "metadata": {},
   "outputs": [],
   "source": []
  },
  {
   "cell_type": "code",
   "execution_count": null,
   "metadata": {},
   "outputs": [],
   "source": []
  },
  {
   "cell_type": "code",
   "execution_count": null,
   "metadata": {},
   "outputs": [],
   "source": []
  },
  {
   "cell_type": "code",
   "execution_count": null,
   "metadata": {},
   "outputs": [],
   "source": []
  },
  {
   "cell_type": "code",
   "execution_count": null,
   "metadata": {},
   "outputs": [],
   "source": []
  },
  {
   "cell_type": "code",
   "execution_count": null,
   "metadata": {},
   "outputs": [],
   "source": []
  }
 ],
 "metadata": {
  "kernelspec": {
   "display_name": "Python 3",
   "language": "python",
   "name": "python3"
  },
  "language_info": {
   "codemirror_mode": {
    "name": "ipython",
    "version": 3
   },
   "file_extension": ".py",
   "mimetype": "text/x-python",
   "name": "python",
   "nbconvert_exporter": "python",
   "pygments_lexer": "ipython3",
   "version": "3.7.1"
  }
 },
 "nbformat": 4,
 "nbformat_minor": 2
}
